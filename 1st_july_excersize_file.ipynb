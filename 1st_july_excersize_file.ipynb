{
 "cells": [
  {
   "cell_type": "code",
   "execution_count": 1,
   "id": "9d4bdcd7",
   "metadata": {},
   "outputs": [],
   "source": [
    "#1.What is the primary goal of Object-Oriented Programming (OOP)?"
   ]
  },
  {
   "cell_type": "raw",
   "id": "9bf15204",
   "metadata": {},
   "source": [
    "OOP  improves the organization, maintainability, and scalability of  systems, making it easier \n",
    "to develop and maintain complex applications. OOP is widely used in software development because it helps \n",
    "create code that is more understandable, adaptable, and extensible."
   ]
  },
  {
   "cell_type": "code",
   "execution_count": 2,
   "id": "cde10e5d",
   "metadata": {},
   "outputs": [],
   "source": [
    "#2.What is an object in Python?"
   ]
  },
  {
   "cell_type": "raw",
   "id": "1a37c329",
   "metadata": {},
   "source": [
    "In Python, an object is a concept that represents a data structure with both data (attributes) and \n",
    "associated behaviors (methods or functions). Almost everything in Python is an object, including numbers, strings,\n",
    "lists, functions, classes, and more. Python is an object-oriented programming (OOP) language, which means it\n",
    "relies heavily on objects to structure and manipulate data."
   ]
  },
  {
   "cell_type": "code",
   "execution_count": 3,
   "id": "66dd7894",
   "metadata": {},
   "outputs": [],
   "source": [
    "#3.What is a class in Python?"
   ]
  },
  {
   "cell_type": "raw",
   "id": "ba3e0ace",
   "metadata": {},
   "source": [
    "In Python, a class is a blueprint for creating objects. It defines a set of attributes and methods\n",
    "that the objects created from the class will have."
   ]
  },
  {
   "cell_type": "code",
   "execution_count": 5,
   "id": "e2ea7d00",
   "metadata": {},
   "outputs": [
    {
     "name": "stdout",
     "output_type": "stream",
     "text": [
      "suman\n",
      "Hello, my name is kumar and I am 25 years old.\n"
     ]
    }
   ],
   "source": [
    "class Person:\n",
    "    def __init__(self, name, age):\n",
    "        self.name = name\n",
    "        self.age = age\n",
    "\n",
    "    def say_hello(self):\n",
    "        print(f\"Hello, my name is {self.name} and I am {self.age} years old.\")\n",
    "\n",
    "person1 = Person(\"suman\", 30)\n",
    "person2 = Person(\"kumar\", 25)\n",
    "\n",
    "print(person1.name)  \n",
    "person2.say_hello()"
   ]
  },
  {
   "cell_type": "code",
   "execution_count": 6,
   "id": "ae180955",
   "metadata": {},
   "outputs": [],
   "source": [
    "#4.What are attributes and methods in a class?"
   ]
  },
  {
   "cell_type": "raw",
   "id": "7a9d9886",
   "metadata": {},
   "source": [
    "Attributes are variables or data members associated with a class.\n",
    "\n",
    "They represent the properties or characteristics of objects created from the class.\n",
    "\n",
    "Attributes store data that describes the state of an object.\n",
    "\n",
    "Each object created from the class can have its own set of attribute values.\n",
    "\n",
    "Attributes can be of various data types, such as integers, strings, lists, dictionaries, or even other objects.\n",
    "\n",
    "Attributes are defined in the class and can be accessed and modified through instances of the class."
   ]
  },
  {
   "cell_type": "code",
   "execution_count": 7,
   "id": "6ef1f70d",
   "metadata": {},
   "outputs": [],
   "source": [
    "class Person:\n",
    "    def __init__(self, name, age):\n",
    "        self.name = name   # name is an attribute\n",
    "        self.age = age # age is an attribute"
   ]
  },
  {
   "cell_type": "raw",
   "id": "5f82f28d",
   "metadata": {},
   "source": [
    "Methods are functions defined within a class.\n",
    "\n",
    "They represent the behaviors or actions that objects created from the class can perform.\n",
    "\n",
    "Methods can interact with the attributes and other methods of the class.\n",
    "\n",
    "Methods are also defined in the class and can be called on instances of the class.\n",
    "\n",
    "Methods often take self as their first parameter, which refers to the instance of the class calling the method. \n",
    "\n",
    "It allows methods to access and modify the object's attributes"
   ]
  },
  {
   "cell_type": "code",
   "execution_count": 8,
   "id": "1cf3f654",
   "metadata": {},
   "outputs": [],
   "source": [
    "class Person:\n",
    "    def __init__(self, name, age):\n",
    "        self.name = name\n",
    "        self.age = age\n",
    "\n",
    "    def say_hello(self):\n",
    "        print(f\"Hello, my name is {self.name} and I am {self.age} years old.\")"
   ]
  },
  {
   "cell_type": "code",
   "execution_count": 9,
   "id": "d85c12a5",
   "metadata": {},
   "outputs": [],
   "source": [
    "#5.What is the difference between class variables and instance variables in Python?"
   ]
  },
  {
   "cell_type": "raw",
   "id": "6bc572f5",
   "metadata": {},
   "source": [
    "Class variables are shared among all instances (objects) of a class. They are associated with the class \n",
    "itself rather than with individual instances."
   ]
  },
  {
   "cell_type": "code",
   "execution_count": 10,
   "id": "9b500953",
   "metadata": {},
   "outputs": [
    {
     "name": "stdout",
     "output_type": "stream",
     "text": [
      "Canis familiaris\n",
      "Buddy\n",
      "Max\n"
     ]
    }
   ],
   "source": [
    "class Dog:\n",
    "    species = \"Canis familiaris\"  \n",
    "\n",
    "    def __init__(self, name, age):\n",
    "        self.name = name  \n",
    "        self.age = age    \n",
    "\n",
    "print(Dog.species) \n",
    "\n",
    "dog1 = Dog(\"Buddy\", 3)\n",
    "dog2 = Dog(\"Max\", 2)\n",
    "\n",
    "print(dog1.name)  \n",
    "print(dog2.name) "
   ]
  },
  {
   "cell_type": "raw",
   "id": "eab32edf",
   "metadata": {},
   "source": [
    "Instance variables are unique to each instance (object) of a class. They are defined within\n",
    "the class and are specific to individual objects."
   ]
  },
  {
   "cell_type": "code",
   "execution_count": 11,
   "id": "f53d92f5",
   "metadata": {},
   "outputs": [
    {
     "name": "stdout",
     "output_type": "stream",
     "text": [
      "Toyota\n",
      "Honda\n"
     ]
    }
   ],
   "source": [
    "class Car:\n",
    "    def __init__(self, make, model):\n",
    "        self.make = make    \n",
    "        self.model = model  \n",
    "\n",
    "car1 = Car(\"Toyota\", \"Camry\")\n",
    "car2 = Car(\"Honda\", \"Civic\")\n",
    "\n",
    "print(car1.make)  \n",
    "print(car2.make) "
   ]
  },
  {
   "cell_type": "code",
   "execution_count": 12,
   "id": "00d68fae",
   "metadata": {},
   "outputs": [],
   "source": [
    "#6.What is the purpose of the self parameter in Python class methods?"
   ]
  },
  {
   "cell_type": "raw",
   "id": "0bf2362b",
   "metadata": {},
   "source": [
    "self allows us to access and work with instance variables within the class.\n",
    "Instance variables store data that is specific to each object created from the class.\n",
    "By using self, we can differentiate between the instance's \n",
    "variables and variables with the same name in the class's scope."
   ]
  },
  {
   "cell_type": "code",
   "execution_count": 13,
   "id": "d3cfbb24",
   "metadata": {},
   "outputs": [
    {
     "name": "stdout",
     "output_type": "stream",
     "text": [
      "78.5\n",
      "28.259999999999998\n"
     ]
    }
   ],
   "source": [
    "class Circle:\n",
    "    def __init__(self, radius):\n",
    "        self.radius = radius\n",
    "\n",
    "    def area(self):\n",
    "        return 3.14 * self.radius * self.radius\n",
    "\n",
    "circle1 = Circle(5)\n",
    "circle2 = Circle(3)\n",
    "\n",
    "print(circle1.area())  \n",
    "print(circle2.area())"
   ]
  },
  {
   "cell_type": "raw",
   "id": "c3cbd9ee",
   "metadata": {},
   "source": [
    "#7.For a library management system, you have to design the \"Book\" class with OOP\n",
    " principles in mind. The “Book” class will have following attributes:\n",
    "a. title: Represents the title of the book.\n",
    "b. author: Represents the author(s) of the book.\n",
    "c. isbn: Represents the ISBN (International Standard Book Number) of the book.\n",
    "d. publication_year: Represents the year of publication of the book.\n",
    "e. available_copies: Represents the number of copies available for checkout.\n",
    "The class will also include the following methods:\n",
    "a. check_out(self): Decrements the available copies by one if there are copies\n",
    "available for checkout.\n",
    "b. return_book(self): Increments the available copies by one when a book is\n",
    "returned.\n",
    "c. display_book_info(self): Displays the information about the book, including its\n",
    "attributes and the number of available copies."
   ]
  },
  {
   "cell_type": "code",
   "execution_count": 15,
   "id": "97808ce3",
   "metadata": {},
   "outputs": [
    {
     "name": "stdout",
     "output_type": "stream",
     "text": [
      "Title: The Catcher in the Rye\n",
      "Author(s): J.D. Salinger\n",
      "ISBN: 978-0-316-76948-0\n",
      "Publication Year: 1951\n",
      "Total Copies: 5\n",
      "Available Copies: 5\n",
      "Book 'The Catcher in the Rye' has been checked out.\n",
      "Book 'The Catcher in the Rye' has been returned.\n",
      "Title: The Catcher in the Rye\n",
      "Author(s): J.D. Salinger\n",
      "ISBN: 978-0-316-76948-0\n",
      "Publication Year: 1951\n",
      "Total Copies: 5\n",
      "Available Copies: 5\n",
      "Book 'The Catcher in the Rye' has been checked out.\n"
     ]
    }
   ],
   "source": [
    "class Book:\n",
    "    def __init__(self, title, author, isbn, publication_year, total_copies):\n",
    "        self.title = title\n",
    "        self.author = author\n",
    "        self.isbn = isbn\n",
    "        self.publication_year = publication_year\n",
    "        self.available_copies = total_copies  \n",
    "        self.total_copies = total_copies  \n",
    "\n",
    "    def check_out(self):\n",
    "        if self.available_copies > 0:\n",
    "            self.available_copies -= 1\n",
    "            print(f\"Book '{self.title}' has been checked out.\")\n",
    "        else:\n",
    "            print(f\"Sorry, '{self.title}' is currently unavailable.\")\n",
    "    def return_book(self):\n",
    "        if self.available_copies < self.total_copies:\n",
    "            self.available_copies += 1\n",
    "            print(f\"Book '{self.title}' has been returned.\")\n",
    "        else:\n",
    "            print(f\"Error: All copies of '{self.title}' are already available.\")\n",
    "\n",
    "    def display_book_info(self):\n",
    "        print(f\"Title: {self.title}\")\n",
    "        print(f\"Author(s): {self.author}\")\n",
    "        print(f\"ISBN: {self.isbn}\")\n",
    "        print(f\"Publication Year: {self.publication_year}\")\n",
    "        print(f\"Total Copies: {self.total_copies}\")\n",
    "        print(f\"Available Copies: {self.available_copies}\")\n",
    "book1 = Book(\"The Catcher in the Rye\", \"J.D. Salinger\", \"978-0-316-76948-0\", 1951, 5)\n",
    "book2 = Book(\"To Kill a Mockingbird\", \"Harper Lee\", \"978-0-06-112008-4\", 1960, 3)\n",
    "\n",
    "book1.display_book_info()\n",
    "book1.check_out()\n",
    "book1.return_book()\n",
    "book1.display_book_info()\n"
   ]
  },
  {
   "cell_type": "raw",
   "id": "2636710a",
   "metadata": {},
   "source": [
    "#8.For a ticket booking system, you have to design the \"Ticket\" class with OOP\n",
    "principles in mind. The “Ticket” class should have the following attributes:\n",
    "a. ticket_id: Represents the unique identifier for the ticket.\n",
    "b. event_name: Represents the name of the event.\n",
    "c. event_date: Represents the date of the event.\n",
    "d. venue: Represents the venue of the event.\n",
    "e. seat_number: Represents the seat number associated with the ticket.\n",
    "f. price: Represents the price of the ticket.\n",
    "g. is_reserved: Represents the reservation status of the ticket.\n",
    "The class also includes the following methods:\n",
    "a. reserve_ticket(self): Marks the ticket as reserved if it is not already reserved.\n",
    "b. cancel_reservation(self): Cancels the reservation of the ticket if it is already\n",
    "reserved.\n",
    "c. display_ticket_info(self): Displays the information about the ticket, including its\n",
    "attributes and reservation status."
   ]
  },
  {
   "cell_type": "code",
   "execution_count": 16,
   "id": "e5544243",
   "metadata": {},
   "outputs": [
    {
     "name": "stdout",
     "output_type": "stream",
     "text": [
      "Ticket ID: T12345\n",
      "Event Name: Concert\n",
      "Event Date: 2023-11-15\n",
      "Venue: City Hall\n",
      "Seat Number: A101\n",
      "Price: $50.0\n",
      "Reservation Status: Not Reserved\n",
      "Ticket T12345 has been reserved.\n",
      "Reservation for Ticket T12345 has been canceled.\n",
      "Ticket ID: T12345\n",
      "Event Name: Concert\n",
      "Event Date: 2023-11-15\n",
      "Venue: City Hall\n",
      "Seat Number: A101\n",
      "Price: $50.0\n",
      "Reservation Status: Not Reserved\n"
     ]
    }
   ],
   "source": [
    "class Ticket:\n",
    "    def __init__(self, ticket_id, event_name, event_date, venue, seat_number, price):\n",
    "        self.ticket_id = ticket_id\n",
    "        self.event_name = event_name\n",
    "        self.event_date = event_date\n",
    "        self.venue = venue\n",
    "        self.seat_number = seat_number\n",
    "        self.price = price\n",
    "        self.is_reserved = False  \n",
    "\n",
    "    def reserve_ticket(self):\n",
    "        if not self.is_reserved:\n",
    "            self.is_reserved = True\n",
    "            print(f\"Ticket {self.ticket_id} has been reserved.\")\n",
    "        else:\n",
    "            print(f\"Ticket {self.ticket_id} is already reserved.\")\n",
    "\n",
    "    def cancel_reservation(self):\n",
    "        if self.is_reserved:\n",
    "            self.is_reserved = False\n",
    "            print(f\"Reservation for Ticket {self.ticket_id} has been canceled.\")\n",
    "        else:\n",
    "            print(f\"Ticket {self.ticket_id} is not reserved.\")\n",
    "\n",
    "    def display_ticket_info(self):\n",
    "        print(f\"Ticket ID: {self.ticket_id}\")\n",
    "        print(f\"Event Name: {self.event_name}\")\n",
    "        print(f\"Event Date: {self.event_date}\")\n",
    "        print(f\"Venue: {self.venue}\")\n",
    "        print(f\"Seat Number: {self.seat_number}\")\n",
    "        print(f\"Price: ${self.price}\")\n",
    "        print(f\"Reservation Status: {'Reserved' if self.is_reserved else 'Not Reserved'}\")\n",
    "\n",
    "\n",
    "ticket1 = Ticket(\"T12345\", \"Concert\", \"2023-11-16\", \"City Hall\", \"A101\", 50.00)\n",
    "ticket2 = Ticket(\"T56789\", \"Sports Game\", \"2023-12-05\", \"Stadium\", \"B203\", 30.00)\n",
    "\n",
    "\n",
    "ticket1.display_ticket_info()\n",
    "ticket1.reserve_ticket()\n",
    "ticket1.cancel_reservation()\n",
    "ticket1.display_ticket_info()\n"
   ]
  },
  {
   "cell_type": "raw",
   "id": "7565801a",
   "metadata": {},
   "source": [
    "#9.You are creating a shopping cart for an e-commerce website. Using OOP to model\n",
    "the \"ShoppingCart\" functionality the class should contain following attributes and\n",
    "methods:\n",
    "a. items: Represents the list of items in the shopping cart.\n",
    "The class also includes the following methods:\n",
    "a. add_item(self, item): Adds an item to the shopping cart by appending it to the\n",
    "list of items.\n",
    "b. remove_item(self, item): Removes an item from the shopping cart if it exists in\n",
    "the list.\n",
    "c. view_cart(self): Displays the items currently present in the shopping cart.\n",
    "d. clear_cart(self): Clears all items from the shopping cart by reassigning an\n",
    "empty list to the items attribute"
   ]
  },
  {
   "cell_type": "code",
   "execution_count": 17,
   "id": "c73ef6d7",
   "metadata": {},
   "outputs": [
    {
     "name": "stdout",
     "output_type": "stream",
     "text": [
      "Added 'Product A' to the shopping cart.\n",
      "Added 'Product B' to the shopping cart.\n",
      "Added 'Product C' to the shopping cart.\n",
      "Items in the shopping cart:\n",
      "Product A\n",
      "Product B\n",
      "Product C\n",
      "Removed 'Product B' from the shopping cart.\n",
      "Items in the shopping cart:\n",
      "Product A\n",
      "Product C\n",
      "The shopping cart has been cleared.\n",
      "The shopping cart is empty.\n"
     ]
    }
   ],
   "source": [
    "class ShoppingCart:\n",
    "    def __init__(self):\n",
    "        self.items = [] \n",
    "\n",
    "    def add_item(self, item):\n",
    "        self.items.append(item)\n",
    "        print(f\"Added '{item}' to the shopping cart.\")\n",
    "\n",
    "    def remove_item(self, item):\n",
    "        if item in self.items:\n",
    "            self.items.remove(item)\n",
    "            print(f\"Removed '{item}' from the shopping cart.\")\n",
    "        else:\n",
    "            print(f\"'{item}' is not in the shopping cart.\")\n",
    "    def view_cart(self):\n",
    "        if self.items:\n",
    "            print(\"Items in the shopping cart:\")\n",
    "            for item in self.items:\n",
    "                print(item)\n",
    "        else:\n",
    "            print(\"The shopping cart is empty.\")\n",
    "\n",
    "    def clear_cart(self):\n",
    "        self.items = []\n",
    "        print(\"The shopping cart has been cleared.\")\n",
    "cart = ShoppingCart()\n",
    "\n",
    "cart.add_item(\"Product A\")\n",
    "cart.add_item(\"Product B\")\n",
    "cart.add_item(\"Product C\")\n",
    "\n",
    "cart.view_cart()\n",
    "cart.remove_item(\"Product B\")\n",
    "cart.view_cart()\n",
    "cart.clear_cart()\n",
    "\n",
    "cart.view_cart()\n",
    "   "
   ]
  },
  {
   "cell_type": "raw",
   "id": "6a3cf53c",
   "metadata": {},
   "source": [
    "#10.Imagine a school management system. You have to design the \"Student\" class using\n",
    "OOP concepts.The “Student” class has the following attributes:\n",
    "a. name: Represents the name of the student.\n",
    "b. age: Represents the age of the student.\n",
    "c. grade: Represents the grade or class of the student.\n",
    "d. student_id: Represents the unique identifier for the student.\n",
    "e. attendance: Represents the attendance record of the student.\n",
    "The class should also include the following methods:\n",
    "a. update_attendance(self, date, status): Updates the attendance record of the\n",
    "student for a given date with the provided status (e.g., present or absent).\n",
    "b. get_attendance(self): Returns the attendance record of the student.\n",
    "c. get_average_attendance(self): Calculates and returns the average\n",
    "attendance percentage of the student based on their attendance record."
   ]
  },
  {
   "cell_type": "code",
   "execution_count": 1,
   "id": "9fb76ba0",
   "metadata": {},
   "outputs": [
    {
     "name": "stdout",
     "output_type": "stream",
     "text": [
      "Student 1 Attendance:\n",
      "{'2023-10-01': 'present', '2023-10-02': 'absent'}\n",
      "Student 2 Attendance:\n",
      "{'2023-10-01': 'present', '2023-10-02': 'present'}\n",
      "Student 1 Average Attendance: 50.0 %\n",
      "Student 2 Average Attendance: 100.0 %\n"
     ]
    }
   ],
   "source": [
    "class Student:\n",
    "    def __init__(self, name, age, grade, student_id):\n",
    "        self.name = name\n",
    "        self.age = age\n",
    "        self.grade = grade\n",
    "        self.student_id = student_id\n",
    "        self.attendance = {}  \n",
    "\n",
    "    def update_attendance(self, date, status):\n",
    "        self.attendance[date] = status\n",
    "\n",
    "    def get_attendance(self):\n",
    "        return self.attendance\n",
    "\n",
    "    def get_average_attendance(self):\n",
    "        total_days = len(self.attendance)\n",
    "        if total_days == 0:\n",
    "            return 0.0  \n",
    "\n",
    "        present_days = sum(status == 'present' for status in self.attendance.values())\n",
    "        average_percentage = (present_days / total_days) * 100.0\n",
    "        return average_percentage\n",
    "\n",
    "\n",
    "student1 = Student(\"krish\", 16, \"10th Grade\", \"S12345\")\n",
    "student2 = Student(\"sudhanshu\", 17, \"11th Grade\", \"S67890\")\n",
    "\n",
    "student1.update_attendance(\"2023-10-01\", \"present\")\n",
    "student1.update_attendance(\"2023-10-02\", \"absent\")\n",
    "student2.update_attendance(\"2023-10-01\", \"present\")\n",
    "student2.update_attendance(\"2023-10-02\", \"present\")\n",
    "print(\"Student 1 Attendance:\")\n",
    "print(student1.get_attendance())\n",
    "print(\"Student 2 Attendance:\")\n",
    "print(student2.get_attendance())\n",
    "print(\"Student 1 Average Attendance:\", student1.get_average_attendance(), \"%\")\n",
    "print(\"Student 2 Average Attendance:\", student2.get_average_attendance(), \"%\")\n"
   ]
  },
  {
   "cell_type": "code",
   "execution_count": null,
   "id": "6dea6158",
   "metadata": {},
   "outputs": [],
   "source": []
  },
  {
   "cell_type": "code",
   "execution_count": null,
   "id": "0e2932b9",
   "metadata": {},
   "outputs": [],
   "source": []
  },
  {
   "cell_type": "code",
   "execution_count": null,
   "id": "78bfd971",
   "metadata": {},
   "outputs": [],
   "source": []
  },
  {
   "cell_type": "code",
   "execution_count": null,
   "id": "ddcea22c",
   "metadata": {},
   "outputs": [],
   "source": []
  }
 ],
 "metadata": {
  "kernelspec": {
   "display_name": "Python 3",
   "language": "python",
   "name": "python3"
  },
  "language_info": {
   "codemirror_mode": {
    "name": "ipython",
    "version": 3
   },
   "file_extension": ".py",
   "mimetype": "text/x-python",
   "name": "python",
   "nbconvert_exporter": "python",
   "pygments_lexer": "ipython3",
   "version": "3.8.8"
  }
 },
 "nbformat": 4,
 "nbformat_minor": 5
}
