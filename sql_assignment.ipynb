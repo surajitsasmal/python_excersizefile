{
 "cells": [
  {
   "cell_type": "markdown",
   "id": "2deb7fce",
   "metadata": {},
   "source": [
    "# MYSQL"
   ]
  },
  {
   "cell_type": "markdown",
   "id": "8c7c9b4b",
   "metadata": {},
   "source": [
    "### assignment1"
   ]
  },
  {
   "cell_type": "code",
   "execution_count": 1,
   "id": "c6c27f16",
   "metadata": {},
   "outputs": [],
   "source": [
    "#q1) candidate who posseses all skills"
   ]
  },
  {
   "cell_type": "markdown",
   "id": "65dc4e72",
   "metadata": {},
   "source": [
    "SELECT candidate_id FROM candidates WHERE \n",
    "\n",
    "skill IN ('Python', 'Tableau', 'PostgreSQL')\n",
    "\n",
    "GROUP BY candidate_id HAVING COUNT(DISTINCT skill) = 3 \n",
    "\n",
    "ORDER BY candidate_id ASC  ;"
   ]
  },
  {
   "cell_type": "code",
   "execution_count": 2,
   "id": "4210793f",
   "metadata": {},
   "outputs": [],
   "source": [
    "#q2)ids of product info that have 0 likes"
   ]
  },
  {
   "cell_type": "markdown",
   "id": "060f46a2",
   "metadata": {},
   "source": [
    "select pr_id from product_info where pr_id not in (select pr_id from product_info_like) "
   ]
  },
  {
   "cell_type": "code",
   "execution_count": null,
   "id": "7c32fd34",
   "metadata": {},
   "outputs": [],
   "source": []
  },
  {
   "cell_type": "code",
   "execution_count": null,
   "id": "2a4d0a5d",
   "metadata": {},
   "outputs": [],
   "source": []
  },
  {
   "cell_type": "code",
   "execution_count": null,
   "id": "d8ee2b13",
   "metadata": {},
   "outputs": [],
   "source": []
  }
 ],
 "metadata": {
  "kernelspec": {
   "display_name": "Python 3",
   "language": "python",
   "name": "python3"
  },
  "language_info": {
   "codemirror_mode": {
    "name": "ipython",
    "version": 3
   },
   "file_extension": ".py",
   "mimetype": "text/x-python",
   "name": "python",
   "nbconvert_exporter": "python",
   "pygments_lexer": "ipython3",
   "version": "3.8.8"
  }
 },
 "nbformat": 4,
 "nbformat_minor": 5
}
