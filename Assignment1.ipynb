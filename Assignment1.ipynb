{
 "cells": [
  {
   "cell_type": "markdown",
   "id": "12081416",
   "metadata": {},
   "source": [
    "# Assignment1"
   ]
  },
  {
   "cell_type": "raw",
   "id": "b3a46438",
   "metadata": {},
   "source": [
    "1. In the below elements which of them are values or an expression? eg:- values can be integer or string and expressions will be mathematical operators.\n",
    "* \n",
    "'hello'\n",
    "-87.8\n",
    "- \n",
    "/ \n",
    "+\t\n",
    "6\n"
   ]
  },
  {
   "cell_type": "markdown",
   "id": "4259d603",
   "metadata": {},
   "source": [
    "values---‘hello’,  -87.6,  6\n",
    "\n",
    "Expression ---* ,  -,   /,  + \n"
   ]
  },
  {
   "cell_type": "code",
   "execution_count": 1,
   "id": "855427b5",
   "metadata": {},
   "outputs": [],
   "source": [
    "#2. What is the difference between string and variable?"
   ]
  },
  {
   "cell_type": "markdown",
   "id": "d47d411e",
   "metadata": {},
   "source": [
    "A string is sequence of character usually text, but variable is a named location in memory that can store any value .\n",
    "Num=10\n",
    "\n",
    "T1=”surajit”\n",
    "\n",
    "This “num” is a variable whose value is integer not string \n",
    "\n",
    "T1 is a variable whose value is a string because it stored a sequence of character.\n"
   ]
  },
  {
   "cell_type": "code",
   "execution_count": 2,
   "id": "155b2837",
   "metadata": {},
   "outputs": [],
   "source": [
    "#3. Describe three different data types."
   ]
  },
  {
   "cell_type": "markdown",
   "id": "c1f5e801",
   "metadata": {},
   "source": [
    "INTEGER ---- A integer is a whole number,positive or negative .exm—5,6,-6\n",
    "\n",
    "FLOAT --- a float is real number with a decimal point. Exm== 10.6,7.8\n",
    "\n",
    "STRING---  A string is sequence of character , exm==”love”,”Hate”\n"
   ]
  },
  {
   "cell_type": "code",
   "execution_count": 3,
   "id": "2a99962d",
   "metadata": {},
   "outputs": [],
   "source": [
    "#4. What is an expression made up of? What do all expressions do?"
   ]
  },
  {
   "cell_type": "markdown",
   "id": "037f2481",
   "metadata": {},
   "source": [
    "In python an expression is combination of operands and operators that evaluates to a single value.\n",
    "\n",
    "An expression can also contain function.a function call is an expression that invokes a function and passed it some argument .\n",
    "\n",
    "Exm: \n",
    "    \n",
    "1+2\n",
    "\n",
    "X+y\n",
    "\n",
    "“hello,world”\n"
   ]
  },
  {
   "cell_type": "code",
   "execution_count": 4,
   "id": "d8c612ec",
   "metadata": {},
   "outputs": [],
   "source": [
    "#5. This assignment statements, like spam = 10. What is the difference between an expression and a statement?"
   ]
  },
  {
   "cell_type": "markdown",
   "id": "36e8e3f9",
   "metadata": {},
   "source": [
    "An expression is a combination of variable ,operator that evaluates to a single value.\n",
    "\n",
    "a statement is a unit of code that performs an action.\n",
    "\n",
    "An expression has a value but an expression doesnot.\n",
    "\n",
    "Expression : 5+5=10\n",
    "    \n",
    "Statement: print(“hello India”)\n"
   ]
  },
  {
   "cell_type": "code",
   "execution_count": 5,
   "id": "b1df583d",
   "metadata": {},
   "outputs": [],
   "source": [
    "\n",
    "#6. After running the following code, what does the variable bacon contain?\n"
   ]
  },
  {
   "cell_type": "markdown",
   "id": "32227ea1",
   "metadata": {},
   "source": [
    "bacon = 22\n",
    "\n",
    "bacon + 1\n",
    "\n",
    "bacon still contain 22 because we did not assign new value to bacon.\n"
   ]
  },
  {
   "cell_type": "code",
   "execution_count": 14,
   "id": "3f4458f2",
   "metadata": {},
   "outputs": [
    {
     "data": {
      "text/plain": [
       "22"
      ]
     },
     "execution_count": 14,
     "metadata": {},
     "output_type": "execute_result"
    }
   ],
   "source": [
    "bacon=22\n",
    "bacon+1\n",
    "bacon"
   ]
  },
  {
   "cell_type": "code",
   "execution_count": 6,
   "id": "09e24c95",
   "metadata": {},
   "outputs": [],
   "source": [
    "#7. What should the values of the following two terms be?"
   ]
  },
  {
   "cell_type": "markdown",
   "id": "1dee888c",
   "metadata": {},
   "source": [
    "'spam' + 'spamspam'>>> output : ‘spamspamspam’\n",
    "    \n",
    "'spam' * 3>>> output : ‘spamspamspam’\n"
   ]
  },
  {
   "cell_type": "code",
   "execution_count": 15,
   "id": "71e2778f",
   "metadata": {},
   "outputs": [
    {
     "name": "stdout",
     "output_type": "stream",
     "text": [
      "spamspamspam\n",
      "spamspamspam\n"
     ]
    }
   ],
   "source": [
    "print('spam' + 'spamspam')\n",
    "print('spam' * 3)"
   ]
  },
  {
   "cell_type": "code",
   "execution_count": 7,
   "id": "e1058c92",
   "metadata": {},
   "outputs": [],
   "source": [
    "#8. Why is eggs a valid variable name while 100 is invalid?"
   ]
  },
  {
   "cell_type": "markdown",
   "id": "8cdce258",
   "metadata": {},
   "source": [
    "In most programming language variable name  can starts  with a letter or an underscore \n",
    "\n",
    "and then after than any combination of lettter,number and underscore.The name cannot strts from number.\n",
    "\n",
    "Egg is valid because it starts with letter ,but 100 is invalid because 100 starts with number.\n"
   ]
  },
  {
   "cell_type": "code",
   "execution_count": 8,
   "id": "fa257d25",
   "metadata": {},
   "outputs": [],
   "source": [
    "#9. What three functions can be used to get the integer, floating-point number, or string version of a value?"
   ]
  },
  {
   "cell_type": "code",
   "execution_count": 12,
   "id": "b9de8b47",
   "metadata": {},
   "outputs": [
    {
     "name": "stdout",
     "output_type": "stream",
     "text": [
      "10.0\n",
      "10\n",
      "10\n"
     ]
    }
   ],
   "source": [
    "A=10\n",
    "B=int(A)\n",
    "C=float(A)\n",
    "D=str(A)\n",
    "print(C)\n",
    "print(D)\n",
    "print(B)"
   ]
  },
  {
   "cell_type": "code",
   "execution_count": 13,
   "id": "0611b618",
   "metadata": {},
   "outputs": [],
   "source": [
    "#10. Why does this expression cause an error? How can you fix it?"
   ]
  },
  {
   "cell_type": "markdown",
   "id": "94c4c10f",
   "metadata": {},
   "source": [
    "'I have eaten ' + 99 + ' burritos.'\n",
    "\n",
    "Answer: Because here we are trying to add integer with a string .\n",
    "    \n",
    "To fix it we can transform 99 which is integer into string.\n",
    "\n",
    "‘I have eaten’ + ‘99’ +’burritos’\n"
   ]
  },
  {
   "cell_type": "code",
   "execution_count": 16,
   "id": "7655a3f3",
   "metadata": {},
   "outputs": [
    {
     "ename": "TypeError",
     "evalue": "can only concatenate str (not \"int\") to str",
     "output_type": "error",
     "traceback": [
      "\u001b[1;31m---------------------------------------------------------------------------\u001b[0m",
      "\u001b[1;31mTypeError\u001b[0m                                 Traceback (most recent call last)",
      "\u001b[1;32m<ipython-input-16-e6fe60523d7f>\u001b[0m in \u001b[0;36m<module>\u001b[1;34m\u001b[0m\n\u001b[1;32m----> 1\u001b[1;33m \u001b[0mprint\u001b[0m\u001b[1;33m(\u001b[0m\u001b[1;34m'I have eaten '\u001b[0m \u001b[1;33m+\u001b[0m \u001b[1;36m99\u001b[0m \u001b[1;33m+\u001b[0m \u001b[1;34m' burritos'\u001b[0m\u001b[1;33m)\u001b[0m\u001b[1;33m\u001b[0m\u001b[1;33m\u001b[0m\u001b[0m\n\u001b[0m",
      "\u001b[1;31mTypeError\u001b[0m: can only concatenate str (not \"int\") to str"
     ]
    }
   ],
   "source": [
    "print('I have eaten ' + 99 + ' burritos')"
   ]
  },
  {
   "cell_type": "code",
   "execution_count": 19,
   "id": "07439acb",
   "metadata": {},
   "outputs": [
    {
     "name": "stdout",
     "output_type": "stream",
     "text": [
      "I have eaten 99 burritos\n"
     ]
    }
   ],
   "source": [
    "print('I have eaten' + ' 99 ' +'burritos')"
   ]
  },
  {
   "cell_type": "code",
   "execution_count": null,
   "id": "86558060",
   "metadata": {},
   "outputs": [],
   "source": []
  }
 ],
 "metadata": {
  "kernelspec": {
   "display_name": "Python 3",
   "language": "python",
   "name": "python3"
  },
  "language_info": {
   "codemirror_mode": {
    "name": "ipython",
    "version": 3
   },
   "file_extension": ".py",
   "mimetype": "text/x-python",
   "name": "python",
   "nbconvert_exporter": "python",
   "pygments_lexer": "ipython3",
   "version": "3.8.8"
  }
 },
 "nbformat": 4,
 "nbformat_minor": 5
}
