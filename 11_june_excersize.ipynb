{
 "cells": [
  {
   "cell_type": "code",
   "execution_count": null,
   "id": "59d60b11",
   "metadata": {},
   "outputs": [],
   "source": []
  },
  {
   "cell_type": "code",
   "execution_count": 37,
   "id": "c8c58d65",
   "metadata": {},
   "outputs": [],
   "source": [
    "#1.What is a lambda function in Python, and how does it differ from a regular function?"
   ]
  },
  {
   "cell_type": "raw",
   "id": "b7682e25",
   "metadata": {},
   "source": [
    "In Python, a lambda function is a small, anonymous function defined using the lambda keyword. \n",
    "Lambda functions are used to create small, one-time-use functions without the need to\n",
    " define a function using the def keyword."
   ]
  },
  {
   "cell_type": "code",
   "execution_count": 40,
   "id": "76b9c804",
   "metadata": {},
   "outputs": [
    {
     "name": "stdout",
     "output_type": "stream",
     "text": [
      "25\n"
     ]
    }
   ],
   "source": [
    "square = lambda x: x**2\n",
    "result = square(5)\n",
    "print(result)"
   ]
  },
  {
   "cell_type": "code",
   "execution_count": 38,
   "id": "32259a32",
   "metadata": {},
   "outputs": [
    {
     "name": "stdout",
     "output_type": "stream",
     "text": [
      "25\n"
     ]
    }
   ],
   "source": [
    "def square(x):\n",
    "    return x**2\n",
    "\n",
    "result = square(5) \n",
    "print(result)\n"
   ]
  },
  {
   "cell_type": "code",
   "execution_count": 35,
   "id": "71ef7eea",
   "metadata": {},
   "outputs": [],
   "source": [
    "#2.Can  a lambda function in Python have multiple arguments? If yes, how can you define and use them ?"
   ]
  },
  {
   "cell_type": "code",
   "execution_count": 36,
   "id": "4c88d102",
   "metadata": {},
   "outputs": [
    {
     "name": "stdout",
     "output_type": "stream",
     "text": [
      "14\n"
     ]
    }
   ],
   "source": [
    "#Yes, a lambda function in Python can have multiple arguments but one expression.\n",
    "add = lambda x, y,z: x + y+z\n",
    "result = add(5, 3,6)\n",
    "\n",
    "print(result)"
   ]
  },
  {
   "cell_type": "code",
   "execution_count": 33,
   "id": "9fe422f1",
   "metadata": {},
   "outputs": [],
   "source": [
    "#3.How are lambda functions typically used in Python? Provide an example use case."
   ]
  },
  {
   "cell_type": "code",
   "execution_count": 34,
   "id": "1f2dc958",
   "metadata": {},
   "outputs": [
    {
     "name": "stdout",
     "output_type": "stream",
     "text": [
      "The square of 5 is 25\n"
     ]
    }
   ],
   "source": [
    "#Lambda functions in Python are typically used in situations where we  need a small, \n",
    "#anonymous function for a short, one-time operation.\n",
    "square = lambda x: x**2\n",
    "num = 5\n",
    "result = square(num)\n",
    "print(f\"The square of {num} is {result}\")"
   ]
  },
  {
   "cell_type": "code",
   "execution_count": 32,
   "id": "7e2a436e",
   "metadata": {},
   "outputs": [],
   "source": [
    "#4.What are the advantages and limitations of lambda functions compared to regular functions in\n",
    "#Python?"
   ]
  },
  {
   "cell_type": "raw",
   "id": "8f2fefea",
   "metadata": {},
   "source": [
    "Advantage : \n",
    "i)Lambda functions are concise and can be defined in a single line\n",
    "ii) Lambda functions are commonly used in functional programming constructs like map, filter, and reduce\n",
    "iii) For very simple operations, lambda functions can make code more readable"
   ]
  },
  {
   "cell_type": "raw",
   "id": "470a9903",
   "metadata": {},
   "source": [
    "Disadvantage:\n",
    "i) Lambda functions are restricted to single expressions and cannot contain statements, assignments, or complex logic\n"
   ]
  },
  {
   "cell_type": "code",
   "execution_count": 28,
   "id": "b6abb562",
   "metadata": {},
   "outputs": [],
   "source": [
    "#5.Are lambda functions in Python able to access variables defined outside of their own scope?\n",
    "#Explain with an example."
   ]
  },
  {
   "cell_type": "code",
   "execution_count": 31,
   "id": "08df13db",
   "metadata": {},
   "outputs": [],
   "source": [
    "#Lambda functions in Python can access variables defined outside of their own scope\n",
    "# if those variables are within the enclosing scope"
   ]
  },
  {
   "cell_type": "code",
   "execution_count": 30,
   "id": "f7f27118",
   "metadata": {},
   "outputs": [
    {
     "name": "stdout",
     "output_type": "stream",
     "text": [
      "50\n"
     ]
    }
   ],
   "source": [
    "def outer_function(x):\n",
    "    square = lambda y: x * y\n",
    "    return square\n",
    "multiply_by_5 = outer_function(5)\n",
    "result = multiply_by_5(10)\n",
    "\n",
    "print(result)\n"
   ]
  },
  {
   "cell_type": "code",
   "execution_count": 26,
   "id": "87a60931",
   "metadata": {},
   "outputs": [],
   "source": [
    "#6.Write a lambda function to calculate the square of a given number."
   ]
  },
  {
   "cell_type": "code",
   "execution_count": 27,
   "id": "a585dd23",
   "metadata": {},
   "outputs": [
    {
     "name": "stdout",
     "output_type": "stream",
     "text": [
      "The square of 5 is 25\n"
     ]
    }
   ],
   "source": [
    "square = lambda x: x**2\n",
    "num = 5\n",
    "result = square(num)\n",
    "print(f\"The square of {num} is {result}\")"
   ]
  },
  {
   "cell_type": "code",
   "execution_count": 23,
   "id": "195b5ac9",
   "metadata": {},
   "outputs": [],
   "source": [
    "#7.Create a lambda function to find the maximum value in a list of integers"
   ]
  },
  {
   "cell_type": "code",
   "execution_count": 24,
   "id": "bd686375",
   "metadata": {},
   "outputs": [
    {
     "name": "stdout",
     "output_type": "stream",
     "text": [
      "25\n"
     ]
    }
   ],
   "source": [
    "integer_list = [10, 5, 8, 17, 3, 25]\n",
    "max_value = max(integer_list, key=lambda x: x)\n",
    "\n",
    "print(max_value)"
   ]
  },
  {
   "cell_type": "code",
   "execution_count": 21,
   "id": "4afa7ba6",
   "metadata": {},
   "outputs": [],
   "source": [
    "#8.Implement a lambda function to filter out all the even numbers from a list of integers."
   ]
  },
  {
   "cell_type": "code",
   "execution_count": 22,
   "id": "7af53b8b",
   "metadata": {},
   "outputs": [
    {
     "name": "stdout",
     "output_type": "stream",
     "text": [
      "[2, 4, 6, 8, 10]\n"
     ]
    }
   ],
   "source": [
    "list1 = [1, 2, 3, 4, 5, 6, 7, 8, 9, 10]\n",
    "\n",
    "filtered_list = list(filter(lambda x: x % 2 == 0, list1))\n",
    "\n",
    "print(filtered_list)"
   ]
  },
  {
   "cell_type": "code",
   "execution_count": 18,
   "id": "dc6d2a6d",
   "metadata": {},
   "outputs": [],
   "source": [
    "#9.Write a lambda function to sort a list of strings in ascending order based on the length of each string\n"
   ]
  },
  {
   "cell_type": "code",
   "execution_count": 20,
   "id": "14475ba7",
   "metadata": {},
   "outputs": [
    {
     "name": "stdout",
     "output_type": "stream",
     "text": [
      "['fig', 'date', 'apple', 'banana', 'cherry']\n"
     ]
    }
   ],
   "source": [
    "string_list = [\"apple\", \"banana\", \"cherry\", \"date\", \"fig\"]\n",
    "sorted_list = sorted(string_list, key=lambda x: len(x))\n",
    "print(sorted_list)"
   ]
  },
  {
   "cell_type": "code",
   "execution_count": 17,
   "id": "4e3bac33",
   "metadata": {},
   "outputs": [],
   "source": [
    "#10.Create a lambda function that takes two lists as input and returns a new list containing the\n",
    "#common elements between the two lists"
   ]
  },
  {
   "cell_type": "code",
   "execution_count": 16,
   "id": "c779a9ec",
   "metadata": {},
   "outputs": [
    {
     "name": "stdout",
     "output_type": "stream",
     "text": [
      "[3, 4, 5]\n"
     ]
    }
   ],
   "source": [
    "list1 = [1, 2, 3, 4, 5]\n",
    "list2 = [3, 4, 5, 6, 7]\n",
    "common_elements = lambda x, y: list(filter(lambda element: element in x, y))\n",
    "result = common_elements(list1, list2)\n",
    "common_elements_list = list(result)\n",
    "print(common_elements_list)"
   ]
  },
  {
   "cell_type": "code",
   "execution_count": 14,
   "id": "cc5eeb09",
   "metadata": {},
   "outputs": [],
   "source": [
    "#11. Write a recursive function to calculate the factorial of a given positive integer."
   ]
  },
  {
   "cell_type": "code",
   "execution_count": 15,
   "id": "9969589f",
   "metadata": {},
   "outputs": [
    {
     "name": "stdout",
     "output_type": "stream",
     "text": [
      "The factorial of 5 is 120\n"
     ]
    }
   ],
   "source": [
    "def factorial(n):\n",
    "    if n == 0 or n == 1:\n",
    "        return 1\n",
    "    else:\n",
    "        return n * factorial(n - 1)\n",
    "num = 5\n",
    "result = factorial(num)\n",
    "print(f\"The factorial of {num} is {result}\")"
   ]
  },
  {
   "cell_type": "code",
   "execution_count": 13,
   "id": "6ce4de5a",
   "metadata": {},
   "outputs": [],
   "source": [
    "#12.Implement a recursive function to compute the nth Fibonacci number."
   ]
  },
  {
   "cell_type": "code",
   "execution_count": 12,
   "id": "51a44e80",
   "metadata": {},
   "outputs": [
    {
     "name": "stdout",
     "output_type": "stream",
     "text": [
      "The 6th Fibonacci number is 8\n"
     ]
    }
   ],
   "source": [
    "def fibonacci(n):\n",
    "    if n <= 1:\n",
    "        return n\n",
    "    else:\n",
    "        \n",
    "        return fibonacci(n - 1) + fibonacci(n - 2)\n",
    "n = 6\n",
    "result = fibonacci(n)\n",
    "print(f\"The {n}th Fibonacci number is {result}\")"
   ]
  },
  {
   "cell_type": "code",
   "execution_count": 7,
   "id": "5cfaf74f",
   "metadata": {},
   "outputs": [],
   "source": [
    "#13.Create a recursive function to find the sum of all the elements in a given list."
   ]
  },
  {
   "cell_type": "code",
   "execution_count": 6,
   "id": "a0337b6b",
   "metadata": {},
   "outputs": [
    {
     "name": "stdout",
     "output_type": "stream",
     "text": [
      "Sum of elements in the list: 15\n"
     ]
    }
   ],
   "source": [
    "def recursive_sum(lst):\n",
    "    if not lst:\n",
    "        return 0\n",
    "    else:\n",
    "        \n",
    "        return lst[0] + recursive_sum(lst[1:])\n",
    "\n",
    "\n",
    "my_list = [1, 2, 3, 4, 5]\n",
    "result = recursive_sum(my_list)\n",
    "print(f\"Sum of elements in the list: {result}\")"
   ]
  },
  {
   "cell_type": "code",
   "execution_count": 5,
   "id": "f5bb9ef8",
   "metadata": {},
   "outputs": [],
   "source": [
    "#14.Write a recursive function to determine whether a given string is a palindrome."
   ]
  },
  {
   "cell_type": "code",
   "execution_count": 4,
   "id": "4456eae9",
   "metadata": {},
   "outputs": [
    {
     "name": "stdout",
     "output_type": "stream",
     "text": [
      "Is \"pppp\" a palindrome? True\n",
      "Is \"aaaa\" a palindrome? True\n"
     ]
    }
   ],
   "source": [
    "def is_palindrome(s):\n",
    "    if len(s) <= 1:\n",
    "        return True\n",
    "    \n",
    "    if s[0] != s[-1]:\n",
    "        return False\n",
    "    \n",
    "    return is_palindrome(s[1:-1])\n",
    "string1 = \"pppp\"\n",
    "string2 = \"aaaa\"\n",
    "print(f'Is \"{string1}\" a palindrome? {is_palindrome(string1)}')\n",
    "print(f'Is \"{string2}\" a palindrome? {is_palindrome(string2)}')"
   ]
  },
  {
   "cell_type": "code",
   "execution_count": 1,
   "id": "135e5d6a",
   "metadata": {},
   "outputs": [],
   "source": [
    "#15.Implement a recursive function to find the greatest common divisor (GCD) of two positive integers."
   ]
  },
  {
   "cell_type": "code",
   "execution_count": 2,
   "id": "4e57c8fe",
   "metadata": {},
   "outputs": [
    {
     "name": "stdout",
     "output_type": "stream",
     "text": [
      "GCD of 48 and 18 is 6\n"
     ]
    }
   ],
   "source": [
    "def gcd(a, b):\n",
    "    if b == 0:\n",
    "        return a\n",
    "    else:\n",
    "        return gcd(b, a % b)\n",
    "\n",
    "# Example usage:\n",
    "num1 = 48\n",
    "num2 = 18\n",
    "result = gcd(num1, num2)\n",
    "print(f\"GCD of {num1} and {num2} is {result}\")"
   ]
  },
  {
   "cell_type": "code",
   "execution_count": null,
   "id": "b88eaf07",
   "metadata": {},
   "outputs": [],
   "source": []
  }
 ],
 "metadata": {
  "kernelspec": {
   "display_name": "Python 3",
   "language": "python",
   "name": "python3"
  },
  "language_info": {
   "codemirror_mode": {
    "name": "ipython",
    "version": 3
   },
   "file_extension": ".py",
   "mimetype": "text/x-python",
   "name": "python",
   "nbconvert_exporter": "python",
   "pygments_lexer": "ipython3",
   "version": "3.8.8"
  }
 },
 "nbformat": 4,
 "nbformat_minor": 5
}
