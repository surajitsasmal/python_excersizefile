{
 "cells": [
  {
   "cell_type": "markdown",
   "id": "38a153f2",
   "metadata": {},
   "source": [
    "# MYSQL "
   ]
  },
  {
   "cell_type": "markdown",
   "id": "bb11d1e8",
   "metadata": {},
   "source": [
    "q1) Query all columns for all American cities in the CITY table with populations larger than 100000."
   ]
  },
  {
   "cell_type": "code",
   "execution_count": 6,
   "id": "9dbd10a3",
   "metadata": {},
   "outputs": [],
   "source": [
    "#select * from city where countrycode='USA' and population>100000;"
   ]
  },
  {
   "cell_type": "markdown",
   "id": "9721664c",
   "metadata": {},
   "source": [
    "q2) Query the NAME field for all American cities in the CITY table with populations larger than 120000."
   ]
  },
  {
   "cell_type": "code",
   "execution_count": 7,
   "id": "43933c30",
   "metadata": {},
   "outputs": [],
   "source": [
    "#select name from city where countrycode='USA' and population>120000;"
   ]
  },
  {
   "cell_type": "markdown",
   "id": "d081fd98",
   "metadata": {},
   "source": [
    "q3)Query all columns (attributes) for every row in the CITY table."
   ]
  },
  {
   "cell_type": "code",
   "execution_count": 8,
   "id": "93579655",
   "metadata": {},
   "outputs": [],
   "source": [
    "#select * from city;"
   ]
  },
  {
   "cell_type": "markdown",
   "id": "cfcf1f69",
   "metadata": {},
   "source": [
    "q4) Query all columns for a city in CITY with the ID 1661."
   ]
  },
  {
   "cell_type": "code",
   "execution_count": 11,
   "id": "69aeda4a",
   "metadata": {},
   "outputs": [],
   "source": [
    "#select * from city where id=1661;"
   ]
  },
  {
   "cell_type": "markdown",
   "id": "c187a830",
   "metadata": {},
   "source": [
    "q5) Query all attributes of every Japanese city in the CITY table. The COUNTRYCODE for Japan is JPN."
   ]
  },
  {
   "cell_type": "code",
   "execution_count": 13,
   "id": "b7d99162",
   "metadata": {},
   "outputs": [],
   "source": [
    "#select * from city where countrycose='JPN';"
   ]
  },
  {
   "cell_type": "markdown",
   "id": "5af70aa8",
   "metadata": {},
   "source": [
    "q6) Query the names of all the Japanese cities in the CITY table. The COUNTRYCODE for Japan is JPN."
   ]
  },
  {
   "cell_type": "code",
   "execution_count": 14,
   "id": "f5f1e757",
   "metadata": {},
   "outputs": [],
   "source": [
    "#select name from city where countrycode='JPN';"
   ]
  },
  {
   "cell_type": "markdown",
   "id": "5d62e137",
   "metadata": {},
   "source": [
    "q7) Query a list of CITY and STATE from the STATION table."
   ]
  },
  {
   "cell_type": "code",
   "execution_count": 15,
   "id": "08cb5fc8",
   "metadata": {},
   "outputs": [],
   "source": [
    "#select city,state from station;"
   ]
  },
  {
   "cell_type": "markdown",
   "id": "bc184866",
   "metadata": {},
   "source": [
    "q8)Query a list of CITY names from STATION for cities that have an even ID number. Print the results\n",
    "in any order, but exclude duplicates from the answer."
   ]
  },
  {
   "cell_type": "code",
   "execution_count": 17,
   "id": "818a0648",
   "metadata": {},
   "outputs": [],
   "source": [
    "#select DISTINCT City from  station where MOD(ID,2)=0 ;"
   ]
  },
  {
   "cell_type": "markdown",
   "id": "f2e81f2d",
   "metadata": {},
   "source": [
    "q9)Find the difference between the total number of CITY entries in the table and the number of\n",
    "distinct CITY entries in the table."
   ]
  },
  {
   "cell_type": "code",
   "execution_count": 19,
   "id": "9a828dad",
   "metadata": {},
   "outputs": [],
   "source": [
    "#select count(city) -count(distict city) from station;"
   ]
  },
  {
   "cell_type": "markdown",
   "id": "8eb3925c",
   "metadata": {},
   "source": [
    "q10) Query the two cities in STATION with the shortest and longest CITY names, as well as their\n",
    "respective lengths (i.e.: number of characters in the name). If there is more than one smallest or\n",
    "largest city, choose the one that comes first when ordered alphabetically."
   ]
  },
  {
   "cell_type": "code",
   "execution_count": 20,
   "id": "f07f4471",
   "metadata": {},
   "outputs": [],
   "source": [
    "#select CITY,LENGTH(CITY) from STATION order by Length(CITY) asc,city asc limit 1; \n",
    "#select CITY,LENGTH(CITY) from STATION order by Length(CITY) desc,city asc limit 1;"
   ]
  },
  {
   "cell_type": "markdown",
   "id": "d7c5985c",
   "metadata": {},
   "source": [
    "q11)Query the list of CITY names starting with vowels (i.e., a, e, i, o, or u) from STATION. Your result\n",
    "cannot contain duplicates."
   ]
  },
  {
   "cell_type": "code",
   "execution_count": null,
   "id": "a108dd79",
   "metadata": {},
   "outputs": [],
   "source": [
    "#SELECT DISTINCT(CITY) FROM STATION WHERE CITY LIKE 'A%' OR CITY LIKE 'E%' OR CITY LIKE 'I%' OR CITY LIKE 'O%' \n",
    "#OR CITY LIKE 'U%' ORDER BY CITY ASC;"
   ]
  },
  {
   "cell_type": "markdown",
   "id": "849b8bdb",
   "metadata": {},
   "source": [
    "q12)Query the list of CITY names ending with vowels (a, e, i, o, u) from STATION. Your result cannot\n",
    "contain duplicates."
   ]
  },
  {
   "cell_type": "code",
   "execution_count": 21,
   "id": "1138a5ce",
   "metadata": {},
   "outputs": [],
   "source": [
    "#SELECT DISTINCT(CITY) FROM STATION WHERE CITY LIKE '%A' OR CITY LIKE '%E' OR CITY LIKE '%I' OR CITY LIKE '%O' \n",
    "#OR CITY LIKE '%U' ORDER BY CITY ASC;"
   ]
  },
  {
   "cell_type": "markdown",
   "id": "af131fd0",
   "metadata": {},
   "source": [
    "q13)Query the list of CITY names from STATION that do not start with vowels. Your result cannot\n",
    "contain duplicates."
   ]
  },
  {
   "cell_type": "code",
   "execution_count": 22,
   "id": "83ec99f0",
   "metadata": {},
   "outputs": [],
   "source": [
    "#select distinct city from station \n",
    "#where city Not like 'A%' and city Not like 'E%' and city Not like 'I%' and\n",
    "#city Not like 'o%' and city not like 'U%';"
   ]
  },
  {
   "cell_type": "markdown",
   "id": "c848a2d3",
   "metadata": {},
   "source": [
    "q14)Query the list of CITY names from STATION that do not end with vowels. Your result cannot\n",
    "contain duplicates."
   ]
  },
  {
   "cell_type": "code",
   "execution_count": 23,
   "id": "404e7dd7",
   "metadata": {},
   "outputs": [],
   "source": [
    "#select distinct city from station \n",
    "#where city Not like '%A' and city Not like '%E' and city Not like '%I' and\n",
    "#city Not like '%O' and city not like '%U';"
   ]
  },
  {
   "cell_type": "markdown",
   "id": "75f87701",
   "metadata": {},
   "source": [
    "q16)Query the list of CITY names from STATION that either do not start with vowels or do not end\n",
    "with vowels. Your result cannot contain duplicates."
   ]
  },
  {
   "cell_type": "code",
   "execution_count": 25,
   "id": "6fa11a41",
   "metadata": {},
   "outputs": [],
   "source": [
    "#SELECT DISTINCT CITY FROM STATION WHERE upper(SUBSTR(CITY,1,1)) NOT IN ('A','E','I','O','U') or lower(SUBSTR(CITY,1,1)) NOT IN\n",
    "#('a','e','i','o','u');  "
   ]
  },
  {
   "cell_type": "markdown",
   "id": "add846a2",
   "metadata": {},
   "source": [
    "q16)Query the list of CITY names from STATION that do not start with vowels and do not end with\n",
    "vowels. Your result cannot contain duplicates."
   ]
  },
  {
   "cell_type": "code",
   "execution_count": 26,
   "id": "96622295",
   "metadata": {},
   "outputs": [],
   "source": [
    "#SELECT DISTINCT CITY FROM STATION WHERE upper(SUBSTR(CITY,1,1)) NOT IN ('A','E','I','O','U') and lower(SUBSTR(CITY,1,1)) NOT IN\n",
    "#('a','e','i','o','u');  "
   ]
  },
  {
   "cell_type": "code",
   "execution_count": 27,
   "id": "20510051",
   "metadata": {},
   "outputs": [],
   "source": [
    "#q17)Write an SQL query that reports the products that were only sold in the first quarter of 2019. That is,\n",
    "#between 2019-01-01 and 2019-03-31 inclusive."
   ]
  },
  {
   "cell_type": "markdown",
   "id": "439c0198",
   "metadata": {},
   "source": [
    "SELECT product_id, \n",
    "\n",
    "       product_name \n",
    "       \n",
    "FROM   product \n",
    "\n",
    "WHERE  product_id  IN \n",
    "\n",
    "(SELECT product_id \n",
    "                          FROM   sales \n",
    "                          WHERE  sale_date  BETWEEN \n",
    "                                 '2019-01-01' AND '2019-03-31'); "
   ]
  },
  {
   "cell_type": "code",
   "execution_count": 28,
   "id": "8651b462",
   "metadata": {},
   "outputs": [],
   "source": [
    "#q18)Write an SQL query to find all the authors that viewed at least one of their own articles.\n",
    "#Return the result table sorted by id in ascending order."
   ]
  },
  {
   "cell_type": "markdown",
   "id": "897a2906",
   "metadata": {},
   "source": [
    "select author_id as id\n",
    "\n",
    "from Views\n",
    "\n",
    "where author_id = viewer_id\n",
    "\n",
    "group by author_id\n",
    "\n",
    "order by author_id asc"
   ]
  },
  {
   "cell_type": "code",
   "execution_count": 29,
   "id": "1e43d20e",
   "metadata": {},
   "outputs": [],
   "source": [
    "#q19)Write an SQL query to find the percentage of immediate orders in the table, rounded to 2 decimal places."
   ]
  },
  {
   "cell_type": "markdown",
   "id": "4f00ccea",
   "metadata": {},
   "source": [
    "select ifnull(\n",
    "    \n",
    "    round(\n",
    "        \n",
    "        (select count(*) from Delivery where order_date = customer_pref_delivery_date)\n",
    "        \n",
    "        /\n",
    "        \n",
    "        (count(delivery_id)) * 100\n",
    "        \n",
    "        , 2)\n",
    "    \n",
    "    , 0\n",
    "    \n",
    ") as immediate_percentage from Delivery;"
   ]
  },
  {
   "cell_type": "code",
   "execution_count": 30,
   "id": "d3c5c4b2",
   "metadata": {},
   "outputs": [],
   "source": [
    "#q20)Write an SQL query to find the ctr of each Ad. Round ctr to two decimal points.\n",
    "#Return the result table ordered by ctr in descending order and by ad_id in ascending order in case of a tie."
   ]
  },
  {
   "cell_type": "markdown",
   "id": "371c93e0",
   "metadata": {},
   "source": [
    "SELECT\n",
    "\n",
    "    ad_id,\n",
    "    \n",
    "    ROUND(IFNULL(SUM(CASE WHEN action='Clicked' THEN 1 ELSE 0 END) * 100 /\n",
    "                 \n",
    "    (SUM(CASE WHEN action='Clicked' THEN 1 ELSE 0 END) + SUM(CASE WHEN action='Viewed' THEN 1 ELSE 0 END)), 0), 2)\n",
    "    \n",
    "    as ctr\n",
    "    \n",
    "FROM Ads\n",
    "\n",
    "GROUP BY 1\n",
    "\n",
    "ORDER BY 2 DESC, 1"
   ]
  },
  {
   "cell_type": "code",
   "execution_count": 31,
   "id": "ce148a2e",
   "metadata": {},
   "outputs": [],
   "source": [
    "#q21)Write an SQL query to find the team size of each of the employees.\n"
   ]
  },
  {
   "cell_type": "markdown",
   "id": "19c4d496",
   "metadata": {},
   "source": [
    "SELECT employee_id, COUNT(team_id) OVER (PARTITION BY team_id) team_size FROM Employee;"
   ]
  },
  {
   "cell_type": "code",
   "execution_count": 32,
   "id": "b2e5672b",
   "metadata": {},
   "outputs": [],
   "source": [
    "#q22)Write an SQL query to find the type of weather in each country for November 2019. The type of weather is:\n",
    "#● Cold if the average weather_state is less than or equal 15,\n",
    "#● Hot if the average weather_state is greater than or equal to 25, and\n",
    "#● Warm otherwise."
   ]
  },
  {
   "cell_type": "markdown",
   "id": "a7296aeb",
   "metadata": {},
   "source": [
    "SELECT c.country_name,\n",
    "\n",
    "CASE (\n",
    "    \n",
    "    WHEN AVG(w.weather_state) <= 15 THEN 'Cold'\n",
    "    \n",
    "    WHEN AVG(w.weather_state) >= 25 THEN 'Hot' \n",
    "    \n",
    "    'Warm' END ) AS weather_type FROM Weather w INNER JOIN  Countries c ON \n",
    "\n",
    "w.country_id = c.country_id\n",
    "\n",
    "WHERE\n",
    "\n",
    "LEFT(w.day, 7) = '2019-11'\n",
    "\n",
    "GROUP BY c.country_name;"
   ]
  },
  {
   "cell_type": "code",
   "execution_count": 33,
   "id": "fab1770d",
   "metadata": {},
   "outputs": [],
   "source": [
    "#q23)Write an SQL query to find the average selling price for each product. average_price should be rounded to 2 decimal places."
   ]
  },
  {
   "cell_type": "markdown",
   "id": "cf571708",
   "metadata": {},
   "source": [
    "SELECT a.product_id\n",
    "\n",
    ", round(SUM(a.units * b.price) / SUM(a.units), 2) AS average_price\n",
    "\n",
    "FROM UnitsSold a\n",
    "\n",
    "JOIN Prices b\n",
    "\n",
    "ON (a.product_id = b.product_id\n",
    "    \n",
    "AND a.purchase_date >= b.start_date\n",
    "    \n",
    "AND a.purchase_date <= b.end_date)\n",
    "\n",
    "group by product_id"
   ]
  },
  {
   "cell_type": "code",
   "execution_count": 34,
   "id": "691533e9",
   "metadata": {},
   "outputs": [],
   "source": [
    "#q24)Write an SQL query to report the first login date for each player."
   ]
  },
  {
   "cell_type": "markdown",
   "id": "ee050878",
   "metadata": {},
   "source": [
    "select player_id, min(event_date) as first_login\n",
    "\n",
    "from Activity \n",
    "\n",
    "group by player_id;"
   ]
  },
  {
   "cell_type": "code",
   "execution_count": 35,
   "id": "6144b599",
   "metadata": {},
   "outputs": [],
   "source": [
    "#q25)Write an SQL query to report the device that is first logged in for each player."
   ]
  },
  {
   "cell_type": "markdown",
   "id": "83594aff",
   "metadata": {},
   "source": [
    "SELECT player_id, device_id FROM ( SELECT player_id, device_id,\n",
    "                                  \n",
    "event_date,MIN(event_date) OVER(PARTITION BY player_id ORDER BY event_date) as first_login FROM Activity ) t1\n",
    "\n",
    " WHERE event_date = first_login;"
   ]
  },
  {
   "cell_type": "code",
   "execution_count": 36,
   "id": "d16b1ff7",
   "metadata": {},
   "outputs": [],
   "source": [
    "#q26)Write an SQL query to get the names of products that have at least 100 units ordered in February 2020 and their amount."
   ]
  },
  {
   "cell_type": "markdown",
   "id": "1db8b9a5",
   "metadata": {},
   "source": [
    "select a.product_name, sum(unit) as unit from Products a left join Orders b on a.product_id = b.product_id\n",
    "\n",
    "where b.order_date between '2020-02-01' and '2020-02-29'\n",
    "\n",
    "group by a.product_id\n",
    "\n",
    "having sum(unit) >= 100;"
   ]
  },
  {
   "cell_type": "code",
   "execution_count": 37,
   "id": "910b665b",
   "metadata": {},
   "outputs": [],
   "source": [
    "#q27)Write an SQL query to find the users who have valid emails.\n",
    "#A valid e-mail has a prefix name and a domain where:\n",
    "#● The prefix name is a string that may contain letters (upper or lower case), digits, underscore\n",
    "#'_', period '.', and/or dash '-'. The prefix name must start with a letter.\n",
    "#● The domain is '@leetcode.com'."
   ]
  },
  {
   "cell_type": "markdown",
   "id": "a338242e",
   "metadata": {},
   "source": [
    "SELECT * FROM Users\n",
    "\n",
    "WHERE REGEXP_LIKE(mail, '^[a-zA-Z][a-zA-Z0-9\\_\\.\\-]*@leetcode.com')"
   ]
  },
  {
   "cell_type": "code",
   "execution_count": 38,
   "id": "7340c1d3",
   "metadata": {},
   "outputs": [],
   "source": [
    "#q28)Write an SQL query to report the customer_id and customer_name of customers who have spent at\n",
    "#least $100 in each month of June and July 2020."
   ]
  },
  {
   "cell_type": "markdown",
   "id": "a69f9c76",
   "metadata": {},
   "source": [
    "WITH result as (\n",
    "\n",
    "SELECT \n",
    "    o.customer_id,\n",
    "    \n",
    "    c.name,\n",
    "    \n",
    "    DATE_FORMAT(o.order_date, '%Y-%m') as order_date, \n",
    "    \n",
    "    SUM(quantity * price) as total_spend\n",
    "    \n",
    "FROM Orders as o JOIN Product as p\n",
    "\n",
    "ON o.product_id = p.product_id\n",
    "\n",
    "JOIN Customers as c\n",
    "\n",
    "ON o.customer_id = c.customer_id\n",
    "\n",
    "GROUP BY 1, 2, 3\n",
    "\n",
    "ORDER BY 1\n",
    "\n",
    ")\n",
    "\n",
    "SELECT DISTINCT customer_id,name FROM result \n",
    "\n",
    "WHERE customer_id IN (SELECT customer_id FROM result \n",
    "\n",
    "WHERE order_date = '2020-06' \n",
    "\n",
    "                      AND total_spend >= 100)\n",
    "                      \n",
    "AND customer_id IN (SELECT customer_id FROM result \n",
    "\n",
    "   WHERE order_date = '2020-07' \n",
    "                    AND total_spend >= 100)"
   ]
  },
  {
   "cell_type": "code",
   "execution_count": 39,
   "id": "a76ae0b7",
   "metadata": {},
   "outputs": [],
   "source": [
    "#29)Write an SQL query to report the distinct titles of the kid-friendly movies streamed in June 2020."
   ]
  },
  {
   "cell_type": "markdown",
   "id": "aee83830",
   "metadata": {},
   "source": [
    "select distinct c.title\n",
    "\n",
    "from content c  join prog p\n",
    "\n",
    "on c.content_id = p.content_id and\n",
    "\n",
    "c.kids_content='Y' and date(p.prog_date)>= '2020-06-01'and date(p.prog_date)<= '2020-06-30'\n",
    ";"
   ]
  },
  {
   "cell_type": "code",
   "execution_count": 40,
   "id": "37bb41e9",
   "metadata": {},
   "outputs": [],
   "source": [
    "#30)Write an SQL query to find the npv of each query of the Queries table."
   ]
  },
  {
   "cell_type": "markdown",
   "id": "94ae96b5",
   "metadata": {},
   "source": [
    "select q.id, q.year, ifnull(n.npv,0) as npv from queries as q left join npv as n\n",
    "\n",
    "on (q.id, q.year) = (n.id, n.year);"
   ]
  },
  {
   "cell_type": "code",
   "execution_count": 41,
   "id": "0692fe12",
   "metadata": {},
   "outputs": [],
   "source": [
    "#32)Write an SQL query to show the unique ID of each user, If a user does not have a unique ID replace just show null."
   ]
  },
  {
   "cell_type": "markdown",
   "id": "123903c6",
   "metadata": {},
   "source": [
    "select unique_id, name from Employees left join EmployeeUNI\n",
    "\n",
    "on if (Employees.id = EmployeeUNI.id, Employees.id, null);"
   ]
  },
  {
   "cell_type": "code",
   "execution_count": 1,
   "id": "8c299477",
   "metadata": {},
   "outputs": [],
   "source": [
    "#q33) Write an SQL query to report the distance travelled by each user.\n",
    "#Return the result table ordered by travelled_distance in descending order, if two or more users\n",
    "#travelled the same distance, order them by their name in ascending order."
   ]
  },
  {
   "cell_type": "markdown",
   "id": "7e3fa3db",
   "metadata": {},
   "source": [
    "select name, sum(ifnull(distance, 0)) as travelled_distance from rides r right join users u on r.user_id = u.id group by name\n",
    "\n",
    "order by 2 desc,1 asc;"
   ]
  },
  {
   "cell_type": "code",
   "execution_count": 2,
   "id": "066d1790",
   "metadata": {},
   "outputs": [],
   "source": [
    "#q34)Write an SQL query to get the names of products that have at least 100 units ordered in February 2020\n",
    "#and their amount."
   ]
  },
  {
   "cell_type": "markdown",
   "id": "bc1ddaea",
   "metadata": {},
   "source": [
    "select a.product_name, sum(unit) as unit from Products a left join Orders b on a.product_id = b.product_id\n",
    "\n",
    "where b.order_date between '2020-02-01' and '2020-02-29' group by a.product_id having sum(unit) >= 100"
   ]
  },
  {
   "cell_type": "code",
   "execution_count": 4,
   "id": "c2c563b3",
   "metadata": {},
   "outputs": [],
   "source": [
    "#q35)Find the name of the user who has rated the greatest number of movies. In case of a tie,\n",
    "#return the lexicographically smaller user name.\n",
    "#● Find the movie name with the highest average rating in February 2020. In case of a tie, return\n",
    "#the lexicographically smaller movie name."
   ]
  },
  {
   "cell_type": "markdown",
   "id": "840d82ef",
   "metadata": {},
   "source": [
    "SELECT user_name AS results FROM\n",
    "\n",
    "(\n",
    "SELECT a.name AS user_name, COUNT(*) AS counts FROM Movie_Rating AS b\n",
    "    \n",
    "    JOIN Users AS a\n",
    "    \n",
    "    on a.user_id = b.user_id\n",
    "    \n",
    "    GROUP BY b.user_id\n",
    "    \n",
    "    ORDER BY counts DESC, user_name ASC LIMIT 1\n",
    "    \n",
    ") first_query\n",
    "\n",
    "UNION\n",
    "\n",
    "SELECT movie_name AS results FROM\n",
    "\n",
    "(\n",
    "SELECT c.title AS movie_name, AVG(d.rating) AS rate FROM Movie_Rating AS d\n",
    "    \n",
    "    JOIN Movies AS c\n",
    "    \n",
    "    on c.movie_id = d.movie_id\n",
    "    \n",
    "    WHERE substr(d.created_at, 1, 7) = '2020-02'\n",
    "    \n",
    "    GROUP BY d.movie_id\n",
    "    \n",
    "    ORDER BY rate DESC, movie_name ASC LIMIT 1\n",
    "    \n",
    ") second_query;"
   ]
  },
  {
   "cell_type": "code",
   "execution_count": 5,
   "id": "6392ccd5",
   "metadata": {},
   "outputs": [],
   "source": [
    "#q36)Write an SQL query to report the distance travelled by each user.\n",
    "#Return the result table ordered by travelled_distance in descending order, if two or more users\n",
    "#travelled the same distance, order them by their name in ascending order."
   ]
  },
  {
   "cell_type": "markdown",
   "id": "d1c8f98a",
   "metadata": {},
   "source": [
    "select name, sum(ifnull(distance, 0)) as travelled_distance from rides r right join users u on r.user_id = u.id\n",
    "\n",
    "group by name order by 2 desc,1 asc;"
   ]
  },
  {
   "cell_type": "code",
   "execution_count": 6,
   "id": "015eba75",
   "metadata": {},
   "outputs": [],
   "source": [
    "#q37)Write an SQL query to show the unique ID of each user, If a user does not have a unique ID replace just show null."
   ]
  },
  {
   "cell_type": "markdown",
   "id": "90c3710c",
   "metadata": {},
   "source": [
    "SELECT unique_id, name FROM Employees LEFT JOIN EmployeeUNI using(id)"
   ]
  },
  {
   "cell_type": "code",
   "execution_count": 7,
   "id": "3f523726",
   "metadata": {},
   "outputs": [],
   "source": [
    "#q38)Write an SQL query to find the id and the name of all students who are enrolled in departments that no longer exist."
   ]
  },
  {
   "cell_type": "markdown",
   "id": "ca887a52",
   "metadata": {},
   "source": [
    "select id, name from Students where department_id not in (select id from Departments);"
   ]
  },
  {
   "cell_type": "code",
   "execution_count": 8,
   "id": "5ceeb979",
   "metadata": {},
   "outputs": [],
   "source": [
    "#39)Write an SQL query to report the number of calls and the total call duration between each pair of\n",
    "#distinct persons (person1, person2) where person1 < person2."
   ]
  },
  {
   "cell_type": "markdown",
   "id": "17575420",
   "metadata": {},
   "source": [
    "select from_id as person1,to_id as person2,\n",
    "\n",
    "    count(duration) as call_count, sum(duration) as total_duration\n",
    "    \n",
    "from (select * \n",
    "      \n",
    "      from Calls \n",
    "      \n",
    "      union all\n",
    "      \n",
    "      select to_id, from_id, duration \n",
    "      \n",
    "      from Calls) t1\n",
    "\n",
    "where from_id < to_id\n",
    "\n",
    "group by person1, person2"
   ]
  },
  {
   "cell_type": "code",
   "execution_count": 9,
   "id": "ac2de8f0",
   "metadata": {},
   "outputs": [],
   "source": [
    "#40)Write an SQL query to find the average selling price for each product. average_price should be rounded to 2 decimal places."
   ]
  },
  {
   "cell_type": "markdown",
   "id": "847f42c1",
   "metadata": {},
   "source": [
    "select UnitsSold.product_id, round(sum(units*price)/sum(units), 2) as average_price\n",
    "\n",
    "from UnitsSold inner join Prices\n",
    "\n",
    "on UnitsSold.product_id = Prices.product_id\n",
    "\n",
    "and UnitsSold.purchase_date between Prices.start_date and Prices.end_date\n",
    "\n",
    "group by UnitsSold.product_id"
   ]
  },
  {
   "cell_type": "code",
   "execution_count": 10,
   "id": "49691255",
   "metadata": {},
   "outputs": [],
   "source": [
    "#41)Write an SQL query to report the number of cubic feet of volume the inventory occupies in each warehouse."
   ]
  },
  {
   "cell_type": "markdown",
   "id": "b5e0512c",
   "metadata": {},
   "source": [
    "select name as warehouse_name, sum(units * vol) as volume\n",
    "\n",
    "from Warehouse w\n",
    "\n",
    "join (select product_id, Width*Length*Height as vol\n",
    "      \n",
    "     from Products) p\n",
    "\n",
    "on w.product_id = p.product_id\n",
    "\n",
    "group by name"
   ]
  },
  {
   "cell_type": "code",
   "execution_count": 11,
   "id": "ea5b7b06",
   "metadata": {},
   "outputs": [],
   "source": [
    "#42)Write an SQL query to report the difference between the number of apples and oranges sold each day."
   ]
  },
  {
   "cell_type": "markdown",
   "id": "69372852",
   "metadata": {},
   "source": [
    "select a.sale_date, a.sold_num - b.sold_num from Sales a left join Sales b on a.sale_date = b.sale_date\n",
    "\n",
    "where a.fruit = 'apples' and b.fruit = 'oranges';"
   ]
  },
  {
   "cell_type": "code",
   "execution_count": 12,
   "id": "cbbc5ca5",
   "metadata": {},
   "outputs": [],
   "source": [
    "#43)Write an SQL query to report the fraction of players that logged in again on the day after the day they\n",
    "\n",
    "#first logged in, rounded to 2 decimal places. In other words, you need to count the number of players\n",
    "\n",
    "#that logged in for at least two consecutive days starting from their first login date, then divide that\n",
    "\n",
    "#number by the total number of players."
   ]
  },
  {
   "cell_type": "markdown",
   "id": "d9f3fca7",
   "metadata": {},
   "source": [
    "WITH CTE AS ( SELECT player_id, min(event_date) as event_start_date from Activity group by player_id )\n",
    "\n",
    "SELECT\n",
    "\n",
    "round((count(distinct c.player_id) / (select count(distinct player_id) from activity)),2)as fraction\n",
    "\n",
    "FROM CTE c\n",
    "\n",
    "JOIN Activity a\n",
    "\n",
    "on c.player_id = a.player_id\n",
    "\n",
    "and datediff(c.event_start_date, a.event_date) = -1"
   ]
  },
  {
   "cell_type": "code",
   "execution_count": 13,
   "id": "74debe41",
   "metadata": {},
   "outputs": [],
   "source": [
    "#44)Write an SQL query to report the managers with at least five direct reports.\n"
   ]
  },
  {
   "cell_type": "markdown",
   "id": "45ae4050",
   "metadata": {},
   "source": [
    "SELECT e1.Name\n",
    "\n",
    "FROM Employee e1\n",
    "\n",
    "JOIN (\n",
    "    \n",
    "SELECT ManagerId \n",
    "    \n",
    "FROM Employee\n",
    "    \n",
    "GROUP BY ManagerId\n",
    "    \n",
    "HAVING COUNT(ManagerId) >= 5\n",
    "    \n",
    ") e2\n",
    "\n",
    "ON e1.Id = e2.ManagerId;"
   ]
  },
  {
   "cell_type": "code",
   "execution_count": null,
   "id": "820172a4",
   "metadata": {},
   "outputs": [],
   "source": [
    "#45)Write an SQL query to report the respective department name and number of students majoring in\n",
    "#each department for all departments in the Department table (even ones with no current students).\n",
    "#Return the result table ordered by student_number in descending order. In case of a tie, order them by\n",
    "#dept_name alphabetically."
   ]
  },
  {
   "cell_type": "markdown",
   "id": "c6a2a3bd",
   "metadata": {},
   "source": [
    "select  a.dept_name, coalesce(count(student_id), 0) student_number from  department a  left join student b\n",
    "\n",
    "on \n",
    "\n",
    "    a.dept_id = b.dept_id\n",
    "    \n",
    "group by a.dept_name\n",
    "\n",
    "order by student_number desc, a.dept_name asc;"
   ]
  },
  {
   "cell_type": "code",
   "execution_count": 14,
   "id": "6ed27435",
   "metadata": {},
   "outputs": [],
   "source": [
    "#46)Write an SQL query to report the customer ids from the Customer table that bought all the products in the Product table."
   ]
  },
  {
   "cell_type": "markdown",
   "id": "22b50a7f",
   "metadata": {},
   "source": [
    "select customer_id from Customer group by customer_id having count(distinct product_key) = \n",
    "\n",
    "    (select count(distinct product_key) from Product)"
   ]
  },
  {
   "cell_type": "code",
   "execution_count": 15,
   "id": "137abe17",
   "metadata": {},
   "outputs": [],
   "source": [
    "#47)Write an SQL query that reports the most experienced employees in each project. In case of a tie,\n",
    "\n",
    "#report all employees with the maximum number of experience years."
   ]
  },
  {
   "cell_type": "markdown",
   "id": "2fe850d8",
   "metadata": {},
   "source": [
    "select project_id, employee_id from Project join Employee using (employee_id) where (project_id, experience_years) in (\n",
    "    \n",
    "    select project_id, max(experience_years)\n",
    "    \n",
    "    from Project\n",
    "    \n",
    "    join Employee\n",
    "    \n",
    "    using (employee_id)\n",
    "    \n",
    "    group by project_id)"
   ]
  },
  {
   "cell_type": "code",
   "execution_count": 16,
   "id": "63644fc1",
   "metadata": {},
   "outputs": [],
   "source": [
    "#48)Write an SQL query that reports the books that have sold less than 10 copies in the last year,\n",
    "#excluding books that have been available for less than one month from today. Assume today is 2019-06-23."
   ]
  },
  {
   "cell_type": "markdown",
   "id": "f8eb54fa",
   "metadata": {},
   "source": [
    "select book_id, name \n",
    "\n",
    "from books\n",
    "\n",
    "where book_id not in (\n",
    "\n",
    "    select book_id \n",
    "    \n",
    "    from orders \n",
    "    \n",
    "    where (dispatch_date between date_sub('2019-06-23',interval 1 year) and '2019-06-23')\n",
    "    \n",
    "    group by (book_id)\n",
    "    \n",
    "    having sum(quantity) >= 10)\n",
    "    \n",
    "and \n",
    "\n",
    "    available_from < date_sub('2019-06-23', interval 1 month)"
   ]
  },
  {
   "cell_type": "code",
   "execution_count": 17,
   "id": "1703fdb0",
   "metadata": {},
   "outputs": [],
   "source": [
    "#49)Write a SQL query to find the highest grade with its corresponding course for each student. In case of\n",
    "#a tie, you should find the course with the smallest course_id."
   ]
  },
  {
   "cell_type": "markdown",
   "id": "2499d9fa",
   "metadata": {},
   "source": [
    "select e1.student_id, min(e1.course_id) as course_id, e1.grade\n",
    "\n",
    "from Enrollments e1\n",
    "\n",
    "where e1.grade = \n",
    "\n",
    "    (select max(grade) as max_grade\n",
    "     \n",
    "    from Enrollments e2\n",
    "     \n",
    "    where e1.student_id = e2.student_id)\n",
    "    \n",
    "group by e1.student_id\n",
    "\n",
    "order by e1.student_id"
   ]
  },
  {
   "cell_type": "code",
   "execution_count": 19,
   "id": "91bf3280",
   "metadata": {},
   "outputs": [],
   "source": [
    "#50)The winner in each group is the player who scored the maximum total points within the group. In the\n",
    "#case of a tie, the lowest player_id wins.\n",
    "#Write an SQL query to find the winner in each group."
   ]
  },
  {
   "cell_type": "markdown",
   "id": "20843022",
   "metadata": {},
   "source": [
    "select group_id,player_id from \n",
    "\n",
    "(select group_id,player_id,sum((\n",
    "    \n",
    "    case when player_id = first_player then first_score\n",
    "    \n",
    "         when player_id = second_player then second_score\n",
    "    \n",
    "         end\n",
    "    \n",
    ")) as totalScores\n",
    " \n",
    "from Players p,Matches m\n",
    " \n",
    "where p.player_id = m.first_player\n",
    " \n",
    "or p.player_id = m.second_player\n",
    " \n",
    "group by group_id,player_id\n",
    " \n",
    "order by group_id,totalScores desc,player_id) as temp\n",
    "\n",
    "group by group_id\n",
    "\n",
    "order by group_id,totalScores desc,player_id"
   ]
  },
  {
   "cell_type": "code",
   "execution_count": null,
   "id": "1685f2e3",
   "metadata": {},
   "outputs": [],
   "source": []
  },
  {
   "cell_type": "code",
   "execution_count": null,
   "id": "9ab2b902",
   "metadata": {},
   "outputs": [],
   "source": []
  },
  {
   "cell_type": "code",
   "execution_count": null,
   "id": "8e3f4062",
   "metadata": {},
   "outputs": [],
   "source": []
  }
 ],
 "metadata": {
  "kernelspec": {
   "display_name": "Python 3",
   "language": "python",
   "name": "python3"
  },
  "language_info": {
   "codemirror_mode": {
    "name": "ipython",
    "version": 3
   },
   "file_extension": ".py",
   "mimetype": "text/x-python",
   "name": "python",
   "nbconvert_exporter": "python",
   "pygments_lexer": "ipython3",
   "version": "3.8.8"
  }
 },
 "nbformat": 4,
 "nbformat_minor": 5
}
