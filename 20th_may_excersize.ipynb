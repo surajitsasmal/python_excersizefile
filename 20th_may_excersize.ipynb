{
 "cells": [
  {
   "cell_type": "code",
   "execution_count": 1,
   "id": "739e5e23",
   "metadata": {},
   "outputs": [],
   "source": [
    "#1.What are keywords in python? Using the keyword library, print all the python keywords."
   ]
  },
  {
   "cell_type": "raw",
   "id": "ec726abd",
   "metadata": {},
   "source": [
    "Keywords in Python are reserved words that have special meanings and \n",
    "are used to define the syntax and structure of the language."
   ]
  },
  {
   "cell_type": "code",
   "execution_count": 3,
   "id": "4f0ad89f",
   "metadata": {},
   "outputs": [
    {
     "name": "stdout",
     "output_type": "stream",
     "text": [
      "False\n",
      "None\n",
      "True\n",
      "and\n",
      "as\n",
      "assert\n",
      "async\n",
      "await\n",
      "break\n",
      "class\n",
      "continue\n",
      "def\n",
      "del\n",
      "elif\n",
      "else\n",
      "except\n",
      "finally\n",
      "for\n",
      "from\n",
      "global\n",
      "if\n",
      "import\n",
      "in\n",
      "is\n",
      "lambda\n",
      "nonlocal\n",
      "not\n",
      "or\n",
      "pass\n",
      "raise\n",
      "return\n",
      "try\n",
      "while\n",
      "with\n",
      "yield\n"
     ]
    }
   ],
   "source": [
    "import keyword\n",
    "\n",
    "\n",
    "keywords = keyword.kwlist\n",
    "\n",
    "# Print all the keywords\n",
    "for kw in keywords:\n",
    "    print(kw)\n"
   ]
  },
  {
   "cell_type": "code",
   "execution_count": 4,
   "id": "88c9c5a0",
   "metadata": {},
   "outputs": [],
   "source": [
    "#2.What are the rules to create variables in python?"
   ]
  },
  {
   "cell_type": "raw",
   "id": "167f1434",
   "metadata": {},
   "source": [
    "Variable Names:\n",
    "\n",
    "Variable names can consist of letters (a-z, A-Z), numbers (0-9), and underscores (_).\n",
    "Variable names must start with a letter or an underscore, not with a number.\n",
    "Variable names are case-sensitive, meaning myVar and myvar are treated as different variables.\n",
    "Reserved Keywords:\n",
    "\n",
    "we cannot use Python keywords (reserved words) as variable names. These keywords have predefined meanings in the language.\n",
    "Valid Variable Names:\n",
    "\n",
    "Valid variable names: my_var, x, _value, count123, Name_1\n",
    "Invalid variable names: 123abc (starts with a number), for (a reserved keyword), my-variable (contains a hyphen)"
   ]
  },
  {
   "cell_type": "code",
   "execution_count": 6,
   "id": "c5a453b8",
   "metadata": {},
   "outputs": [],
   "source": [
    "# Valid variable names\n",
    "name = \"John\"\n",
    "age = 30\n",
    "total_score = 95\n",
    "user_name_1 = \"Alice\"\n",
    "\n",
    "# Invalid variable names\n",
    "#1st_place = \"First\"  # Starts with a number\n",
    "#for = \"loop\"         # Uses a reserved keyword\n",
    "#my-variable = 42"
   ]
  },
  {
   "cell_type": "code",
   "execution_count": 7,
   "id": "6cb94776",
   "metadata": {},
   "outputs": [],
   "source": [
    "#3.What are the standards and conventions followed for the nomenclature of variables in\n",
    "#python to improve code readability and maintainability?"
   ]
  },
  {
   "cell_type": "raw",
   "id": "7f6423be",
   "metadata": {},
   "source": [
    "Descriptive Names:\n",
    "\n",
    "variable names that clearly describe the purpose or content of the variable. A name like total_score is more\n",
    "informative than ts.\n",
    " lowercase with underscores (Snake Case):\n",
    "\n",
    "Variable names in Python are typically written in lowercase, and words are separated by underscores. \n",
    "For example: word_count, max_value, user_name.\n",
    "    \n",
    " UPPERCASE for Constants:\n",
    "\n",
    "Constants, which are variables whose values should not be changed once set, are conventionally written in uppercase\n",
    "with underscores. For example: PI_VALUE, MAX_LENGTH.\n",
    "Avoid Single-Character Names:\n",
    "\n",
    " meaningful names instead of single-letter variables, except in certain cases like loop counters (i, j, k) and mathematical \n",
    "formulas where single-letter variables are customary.\n",
    "Avoid Using Built-in Names:\n",
    "\n",
    "Avoid using names that are already defined as built-in functions or keywords in Python. Overriding these names\n",
    "can lead to unexpected behavior.\n",
    "Use Verb-Noun Pairs for Functions:\n",
    "\n",
    "When naming functions, use verb-noun pairs that describe the action the function performs and what it operates on\n",
    ". For example: calculate_total(), format_string().\n",
    "Class Names:\n",
    "\n",
    "Class names should follow the CapWords convention, \n",
    "also known as CamelCase. The first letter of each word is capitalized without spaces or underscores.\n",
    "For example: MyClass, EmployeeRecord.\n"
   ]
  },
  {
   "cell_type": "code",
   "execution_count": 8,
   "id": "0e099812",
   "metadata": {},
   "outputs": [],
   "source": [
    "#4.What will happen if a keyword is used as a variable name?"
   ]
  },
  {
   "cell_type": "code",
   "execution_count": 9,
   "id": "8243bfea",
   "metadata": {},
   "outputs": [],
   "source": [
    "#Python will raise a SyntaxError and indicate that we cannot use a keyword as a variable name."
   ]
  },
  {
   "cell_type": "code",
   "execution_count": 10,
   "id": "fee94b35",
   "metadata": {},
   "outputs": [
    {
     "ename": "SyntaxError",
     "evalue": "invalid syntax (<ipython-input-10-2458e103fff2>, line 1)",
     "output_type": "error",
     "traceback": [
      "\u001b[1;36m  File \u001b[1;32m\"<ipython-input-10-2458e103fff2>\"\u001b[1;36m, line \u001b[1;32m1\u001b[0m\n\u001b[1;33m    for=8\u001b[0m\n\u001b[1;37m       ^\u001b[0m\n\u001b[1;31mSyntaxError\u001b[0m\u001b[1;31m:\u001b[0m invalid syntax\n"
     ]
    }
   ],
   "source": [
    "for=8"
   ]
  },
  {
   "cell_type": "code",
   "execution_count": 11,
   "id": "ba50d566",
   "metadata": {},
   "outputs": [],
   "source": [
    "#5.For what purpose def keyword is used?"
   ]
  },
  {
   "cell_type": "code",
   "execution_count": 12,
   "id": "5184abc9",
   "metadata": {},
   "outputs": [],
   "source": [
    "#For creating a function."
   ]
  },
  {
   "cell_type": "code",
   "execution_count": 13,
   "id": "28d03fa2",
   "metadata": {},
   "outputs": [
    {
     "name": "stdout",
     "output_type": "stream",
     "text": [
      "12\n"
     ]
    }
   ],
   "source": [
    "def addition(x,y):\n",
    "    c=x+y\n",
    "    print(c)\n",
    "addition(5,7)"
   ]
  },
  {
   "cell_type": "code",
   "execution_count": null,
   "id": "5c11fbd9",
   "metadata": {},
   "outputs": [],
   "source": [
    "#6.What is the operation of this special character ‘\\’?"
   ]
  },
  {
   "cell_type": "raw",
   "id": "d7e11087",
   "metadata": {},
   "source": [
    "Backslashes are often used to create escape sequences to represent characters that are difficult\n",
    "to include directly in a string. For example:\n",
    "'\\n' represents a newline character.\n",
    "'\\t' represents a tab character.\n",
    "'\\'' represents a single quote character within a single-quoted string.\n",
    "'\\\"' represents a double quote character within a double-quoted string.\n",
    "'\\\\' represents a single backslash character within a string."
   ]
  },
  {
   "cell_type": "code",
   "execution_count": 19,
   "id": "2fddbc1c",
   "metadata": {},
   "outputs": [
    {
     "name": "stdout",
     "output_type": "stream",
     "text": [
      "This is a very long string that                spans multiple lines for readability.\n"
     ]
    }
   ],
   "source": [
    "long_string = \"This is a very long string that \\\n",
    "               spans multiple lines for readability.\"\n",
    "print(long_string)"
   ]
  },
  {
   "cell_type": "raw",
   "id": "056245cf",
   "metadata": {},
   "source": [
    "#7.Give an example of the following conditions:\n",
    "(i) Homogeneous list\n",
    "(ii) Heterogeneous set\n",
    "(iii) Homogeneous tuple"
   ]
  },
  {
   "cell_type": "code",
   "execution_count": 20,
   "id": "544edcf2",
   "metadata": {},
   "outputs": [],
   "source": [
    "homogeneous_list=[1,2,3,4,5]\n",
    "heterogeneous_list={1,True,\"hello\",8}\n",
    "homogeneous_tuple=('banana','apple','mango')"
   ]
  },
  {
   "cell_type": "code",
   "execution_count": 21,
   "id": "da55499c",
   "metadata": {},
   "outputs": [],
   "source": [
    "#8.Explain the mutable and immutable data types with proper explanation & examples."
   ]
  },
  {
   "cell_type": "raw",
   "id": "13c45534",
   "metadata": {},
   "source": [
    "Mutable data types are those whose values can be modified or changed after they are created.\n",
    "This means that you can add, remove, or modify elements within the data type without creating a new object.\n",
    "Mutable data types are typically used when you need to perform operations that involve changing the contents of \n",
    "the data structure."
   ]
  },
  {
   "cell_type": "code",
   "execution_count": 22,
   "id": "1c4eb1a1",
   "metadata": {},
   "outputs": [
    {
     "name": "stdout",
     "output_type": "stream",
     "text": [
      "[1, 2, 3, 4]\n"
     ]
    }
   ],
   "source": [
    "my_list = [1, 2, 3]\n",
    "my_list.append(4)\n",
    "print(my_list)"
   ]
  },
  {
   "cell_type": "code",
   "execution_count": 23,
   "id": "d4b033ad",
   "metadata": {},
   "outputs": [
    {
     "name": "stdout",
     "output_type": "stream",
     "text": [
      "{'name': 'Alice', 'age': 31}\n"
     ]
    }
   ],
   "source": [
    "my_dict = {\"name\": \"Alice\", \"age\": 30}\n",
    "my_dict[\"age\"] = 31\n",
    "print(my_dict)"
   ]
  },
  {
   "cell_type": "raw",
   "id": "b61f46e6",
   "metadata": {},
   "source": [
    "immutable data types are those whose values cannot be changed after they are created.\n",
    "When you perform operations that seem to modify an immutable data type, they actually create \n",
    "a new object with the modified value, leaving the original object unchanged.\n",
    "Immutable data types are often used when you want to ensure that the data remains constant."
   ]
  },
  {
   "cell_type": "code",
   "execution_count": 25,
   "id": "82ad9589",
   "metadata": {},
   "outputs": [],
   "source": [
    "#my_tuple = (1, 2, 3)\n",
    "# Attempting to modify the tuple will result in an error\n"
   ]
  },
  {
   "cell_type": "code",
   "execution_count": 24,
   "id": "590bf6af",
   "metadata": {},
   "outputs": [
    {
     "name": "stdout",
     "output_type": "stream",
     "text": [
      "Hello, World!\n"
     ]
    }
   ],
   "source": [
    "my_str = \"Hello\"\n",
    "new_str = my_str + \", World!\" \n",
    "print(new_str)"
   ]
  },
  {
   "cell_type": "code",
   "execution_count": 26,
   "id": "b9074805",
   "metadata": {},
   "outputs": [],
   "source": [
    "#9.pattern printing"
   ]
  },
  {
   "cell_type": "code",
   "execution_count": 30,
   "id": "01169abb",
   "metadata": {},
   "outputs": [
    {
     "name": "stdout",
     "output_type": "stream",
     "text": [
      "    * \n",
      "   * * \n",
      "  * * * \n",
      " * * * * \n",
      "* * * * * \n"
     ]
    }
   ],
   "source": [
    "for i in range(5):\n",
    "    for j in range(5-i-1):\n",
    "        print(end=\" \")\n",
    "    for j in range(i+1):\n",
    "        print(\"*\",end=\" \")\n",
    "    print()"
   ]
  },
  {
   "cell_type": "code",
   "execution_count": 36,
   "id": "7a953427",
   "metadata": {},
   "outputs": [
    {
     "name": "stdout",
     "output_type": "stream",
     "text": [
      "    *\n",
      "   ***\n",
      "  *****\n",
      " *******\n",
      "*********\n"
     ]
    }
   ],
   "source": [
    "rows = 5  \n",
    "\n",
    "for i in range(1, rows + 1):\n",
    "    spaces = \" \" * (rows - i)\n",
    "    asterisks = \"*\" * (2 * i - 1)\n",
    "    print(spaces + asterisks)"
   ]
  },
  {
   "cell_type": "code",
   "execution_count": 34,
   "id": "09c14efd",
   "metadata": {},
   "outputs": [
    {
     "name": "stdout",
     "output_type": "stream",
     "text": [
      "|||||||||\n",
      " |||||||\n",
      "  |||||\n",
      "   |||\n",
      "    |\n"
     ]
    }
   ],
   "source": [
    "\n",
    "i = 0    \n",
    "\n",
    "while i < row:\n",
    "    \n",
    "    spaces = \" \" * i\n",
    "    \n",
    "    bars = \"|\" * (2 * (row - i) - 1)\n",
    "    print(spaces + bars)\n",
    "    \n",
    "\n",
    "    i += 1"
   ]
  },
  {
   "cell_type": "code",
   "execution_count": null,
   "id": "eddcc3cc",
   "metadata": {},
   "outputs": [],
   "source": []
  }
 ],
 "metadata": {
  "kernelspec": {
   "display_name": "Python 3",
   "language": "python",
   "name": "python3"
  },
  "language_info": {
   "codemirror_mode": {
    "name": "ipython",
    "version": 3
   },
   "file_extension": ".py",
   "mimetype": "text/x-python",
   "name": "python",
   "nbconvert_exporter": "python",
   "pygments_lexer": "ipython3",
   "version": "3.8.8"
  }
 },
 "nbformat": 4,
 "nbformat_minor": 5
}
