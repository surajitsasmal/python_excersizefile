{
 "cells": [
  {
   "cell_type": "markdown",
   "id": "51d93592",
   "metadata": {},
   "source": [
    "# Assignment4"
   ]
  },
  {
   "cell_type": "code",
   "execution_count": 1,
   "id": "fb98709b",
   "metadata": {},
   "outputs": [],
   "source": [
    "#1.What exactly is []?"
   ]
  },
  {
   "cell_type": "markdown",
   "id": "e91f16b4",
   "metadata": {},
   "source": [
    "\n",
    "The symbol \"[]\" represents an empty list in Python.\n",
    "\n",
    "A list is a data structure that can hold a collection of items\n",
    "\n",
    "or elements. When you use \"[]\" with nothing inside it, it signifies that the list is empty, meaning it contains no elements.\n"
   ]
  },
  {
   "cell_type": "code",
   "execution_count": 2,
   "id": "53cb0ac2",
   "metadata": {},
   "outputs": [],
   "source": [
    "#2.In a list of values stored in a variable called spam, how would you assign the value 'hello' \n",
    "#as the third value? (Assume [2, 4, 6, 8, 10] are in spam.)"
   ]
  },
  {
   "cell_type": "code",
   "execution_count": 6,
   "id": "9342e571",
   "metadata": {},
   "outputs": [
    {
     "name": "stdout",
     "output_type": "stream",
     "text": [
      "[2, 4, 'Hello', 8, 10]\n",
      "[2, 4, 'Hello', 6, 8, 10]\n"
     ]
    }
   ],
   "source": [
    "Spam=[2,4,6,8,10]\n",
    "Spam[2]='Hello'\n",
    "print(Spam)\n",
    "\n",
    "Spam=[2,4,6,8,10]\n",
    "Spam.insert(2,'Hello')\n",
    "print(Spam)\n",
    "\n"
   ]
  },
  {
   "cell_type": "code",
   "execution_count": null,
   "id": "4ca4dae1",
   "metadata": {},
   "outputs": [],
   "source": []
  },
  {
   "cell_type": "raw",
   "id": "556efcc3",
   "metadata": {},
   "source": [
    "Let's pretend the spam includes the list ['a', 'b', 'c', 'd'] for the next three queries.\n",
    "3.What is the value of spam[int(int('3' * 2) / 11)]?\n",
    "‘d’\n",
    "4.What is the value of spam[-1]?\n",
    "‘d’\n",
    "5.What is the value of spam[:2]?\n",
    "[‘a’,’b’]\n"
   ]
  },
  {
   "cell_type": "code",
   "execution_count": null,
   "id": "f96292c3",
   "metadata": {},
   "outputs": [],
   "source": []
  },
  {
   "cell_type": "raw",
   "id": "784d6140",
   "metadata": {},
   "source": [
    "Let's pretend bacon has the list [3.14, 'cat,' 11, 'cat,' True] for the next three questions.\n",
    "\n",
    "6.What is the value of bacon.index('cat')?\n",
    "\n",
    "TypeError: insert expected 2 arguments, got 1\n",
    "\n",
    "\n",
    "7.How does bacon.append(99) change the look of the list value in bacon?\n",
    "\n",
    "[3.14,’cat’,11,’cat’,True,99]\n",
    "\n",
    "8. How does bacon.remove('cat') change the look of the list in bacon?\n",
    "\n",
    "[3.14, 11, 'cat', True, 99]\n"
   ]
  },
  {
   "cell_type": "raw",
   "id": "1488cb72",
   "metadata": {},
   "source": []
  },
  {
   "cell_type": "raw",
   "id": "0dd52b37",
   "metadata": {},
   "source": [
    "9.What are the list concatenation and list replication operators?\n",
    "\n",
    "List Concatenation (+ operator):\n",
    "\n",
    "L1=[1,2,3]\n",
    "\n",
    "L2=[3,4,5]\n",
    "\n",
    "L1 + L2 ----[1,2,3,4,5,6]\n",
    "\n",
    "list1 l1L List Replication: L1=[1,2,3]\n",
    "\n",
    "L1*3 ---[1,2,3,1,2,3,1,2,3]\n"
   ]
  },
  {
   "cell_type": "code",
   "execution_count": 8,
   "id": "0f2b4c6a",
   "metadata": {},
   "outputs": [],
   "source": [
    "#10. What is difference between the list methods append() and insert()?"
   ]
  },
  {
   "cell_type": "markdown",
   "id": "162e83d9",
   "metadata": {},
   "source": [
    "\n",
    "Append(): Add the element at the end of the list.list grows by size 1.\n",
    "\n",
    "Insert(): Insert the element at the specific index pushing the elenernt in that index therefore increase the size of the list.\n",
    "\n",
    "\n"
   ]
  },
  {
   "cell_type": "code",
   "execution_count": 12,
   "id": "dc6b741d",
   "metadata": {},
   "outputs": [
    {
     "name": "stdout",
     "output_type": "stream",
     "text": [
      "[2, 4, 6, 8, 10, 2]\n",
      "[2, 4, 'Hello', 6, 8, 10]\n"
     ]
    }
   ],
   "source": [
    "Spam=[2,4,6,8,10]\n",
    "Spam.append(2)\n",
    "print(Spam)\n",
    "\n",
    "Spam=[2,4,6,8,10]\n",
    "Spam.insert(2,'Hello')\n",
    "print(Spam)"
   ]
  },
  {
   "cell_type": "code",
   "execution_count": 13,
   "id": "cc066c4b",
   "metadata": {},
   "outputs": [],
   "source": [
    "#11. What are the two methods for removing items from a list?"
   ]
  },
  {
   "cell_type": "code",
   "execution_count": 14,
   "id": "66034ca6",
   "metadata": {},
   "outputs": [],
   "source": [
    "\n",
    "#Remove : remove first occurance of a specific value from a list.\n",
    "L1=[1,2,3,2,4]\n",
    "L1.remove(2)\n",
    "\n",
    "#Pop : this method is used to remove and return an item at an specific index in a list.\n",
    "L1=[1,2,3,4]\n",
    "L2=L1.pop(1)\n",
    "#Return [1,3,4] #poped item is 2 which is in index 1\n"
   ]
  },
  {
   "cell_type": "code",
   "execution_count": 15,
   "id": "7288fa27",
   "metadata": {},
   "outputs": [],
   "source": [
    "#What's the difference between tuples and lists?"
   ]
  },
  {
   "cell_type": "markdown",
   "id": "6c604543",
   "metadata": {},
   "source": [
    "Lists: Lists are mutable, which means we can change their contents (add, remove, or modify elements) after they are created.\n",
    "    \n",
    "Tuples: Tuples are immutable, meaning once you create a tuple, we cannot change its contents. we cannot add, remove, \n",
    "    or modify elements in a tuple.\n",
    "    \n",
    "Lists: Lists are slightly less memory-efficient and performant compared to tuples because of their mutability. When we\n",
    "    modify a list, it may require resizing and copying elements to accommodate changes.\n",
    "    \n",
    "Tuples: Tuples are more memory-efficient and generally faster than lists when we don't need to\n",
    "    change the elements because they are stored in a more compact form.\n"
   ]
  },
  {
   "cell_type": "code",
   "execution_count": 16,
   "id": "2e8f28ee",
   "metadata": {},
   "outputs": [],
   "source": [
    "#14. How do you type a tuple value that only contains the integer 42?\n",
    "\n"
   ]
  },
  {
   "cell_type": "code",
   "execution_count": 17,
   "id": "4727eb5a",
   "metadata": {},
   "outputs": [],
   "source": [
    "#Tuple1=(42,)"
   ]
  },
  {
   "cell_type": "code",
   "execution_count": 18,
   "id": "c7ea87f2",
   "metadata": {},
   "outputs": [],
   "source": [
    "#15. How do you get a list value's tuple form? How do you get a tuple value's list form?\n",
    "My_list=[1,2,3]\n",
    "My_tuple=tuple(My_list)\n",
    "\n",
    "Tuple1=(1,2,3,4)\n",
    "List1=list(Tuple1)\n",
    "\n"
   ]
  },
  {
   "cell_type": "code",
   "execution_count": 19,
   "id": "d2d6bb9e",
   "metadata": {},
   "outputs": [],
   "source": [
    "#16. Variables that \"contain\" list values are not necessarily lists themselves. Instead, what do they contain?"
   ]
  },
  {
   "cell_type": "markdown",
   "id": "cb9f0252",
   "metadata": {},
   "source": [
    "When we create a variable and assign it a list, the variable\n",
    "\n",
    "stores a reference to the memory location where the list is stored. This reference \n",
    "\n",
    "essentially points to the list's data in memory.\n"
   ]
  },
  {
   "cell_type": "code",
   "execution_count": 20,
   "id": "88589ecd",
   "metadata": {},
   "outputs": [],
   "source": [
    "#17. How do you distinguish between copy.copy() and copy.deepcopy()?\n",
    "\n"
   ]
  },
  {
   "cell_type": "markdown",
   "id": "dc2337cc",
   "metadata": {},
   "source": [
    "copy.copy() creates a shallow copy, which shares references to inner objects, \n",
    "\n",
    "while copy.deepcopy() creates a deep copy, which duplicates all objects within the original\n",
    "\n",
    "object, resulting in no shared references between the original and copied objects."
   ]
  },
  {
   "cell_type": "code",
   "execution_count": 21,
   "id": "550f8563",
   "metadata": {},
   "outputs": [
    {
     "name": "stdout",
     "output_type": "stream",
     "text": [
      "[1, [99, 3], 4]\n"
     ]
    }
   ],
   "source": [
    "import copy\n",
    "\n",
    "original_list = [1, [2, 3], 4]\n",
    "shallow_copy = copy.copy(original_list)\n",
    "\n",
    "shallow_copy[1][0] = 99\n",
    "\n",
    "print(original_list)"
   ]
  },
  {
   "cell_type": "code",
   "execution_count": 22,
   "id": "b6f4f749",
   "metadata": {},
   "outputs": [
    {
     "name": "stdout",
     "output_type": "stream",
     "text": [
      "[1, [2, 3], 4]\n"
     ]
    }
   ],
   "source": [
    "import copy\n",
    "\n",
    "original_list = [1, [2, 3], 4]\n",
    "deep_copy = copy.deepcopy(original_list)\n",
    "\n",
    "deep_copy[1][0] = 99\n",
    "\n",
    "print(original_list)"
   ]
  },
  {
   "cell_type": "code",
   "execution_count": null,
   "id": "3927e486",
   "metadata": {},
   "outputs": [],
   "source": []
  }
 ],
 "metadata": {
  "kernelspec": {
   "display_name": "Python 3",
   "language": "python",
   "name": "python3"
  },
  "language_info": {
   "codemirror_mode": {
    "name": "ipython",
    "version": 3
   },
   "file_extension": ".py",
   "mimetype": "text/x-python",
   "name": "python",
   "nbconvert_exporter": "python",
   "pygments_lexer": "ipython3",
   "version": "3.8.8"
  }
 },
 "nbformat": 4,
 "nbformat_minor": 5
}
