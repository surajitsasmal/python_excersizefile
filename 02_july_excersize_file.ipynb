{
 "cells": [
  {
   "cell_type": "code",
   "execution_count": 1,
   "id": "2210ac1b",
   "metadata": {},
   "outputs": [],
   "source": [
    "#1.Explain what inheritance is in object-oriented programming and why it is used."
   ]
  },
  {
   "cell_type": "markdown",
   "id": "27eedcc7",
   "metadata": {},
   "source": [
    "Inheritance is a fundamental concept in object-oriented programming (OOP) that allows one class to\n",
    "inherit the properties and behaviors  of another class. It is a mechanism \n",
    "that models the \"is-a\" relationship between classes. Inheritance enables the creation of a new class \n",
    "(called the subclass or derived class) based on an existing class (called the superclass or base class).\n",
    "The subclass inherits the attributes and behaviors of the superclass \n",
    "and can also extend or modify them as needed."
   ]
  },
  {
   "cell_type": "code",
   "execution_count": 2,
   "id": "696618ec",
   "metadata": {},
   "outputs": [],
   "source": [
    "#2.Discuss the concept of single inheritance and multiple inheritance, highlighting their differences and advantages."
   ]
  },
  {
   "cell_type": "markdown",
   "id": "69f5ac6f",
   "metadata": {},
   "source": [
    "Single inheritance is a type of inheritance in which a class can inherit properties\n",
    "\n",
    "and behaviors from only one superclass or base class\n",
    "\n",
    "Multiple inheritance is a type of inheritance in which a class can inherit properties\n",
    "    \n",
    "and behaviors from more than one superclass or base class."
   ]
  },
  {
   "cell_type": "code",
   "execution_count": null,
   "id": "4e67072c",
   "metadata": {},
   "outputs": [],
   "source": [
    "#3.Explain the terms \"base class\" and \"derived class\" in the context of inheritance."
   ]
  },
  {
   "cell_type": "markdown",
   "id": "dda3a61e",
   "metadata": {},
   "source": [
    "A base class known as a superclass or parent class, is the\n",
    "\n",
    "class from which other classes inherit properties and behaviors.\n",
    "\n",
    "A derived class known as a subclass or child class, is a class\n",
    "\n",
    "that inherits properties and behaviors from a base class."
   ]
  },
  {
   "cell_type": "code",
   "execution_count": 3,
   "id": "8967ef27",
   "metadata": {},
   "outputs": [],
   "source": [
    "#4.What is the significance of the \"protected\" access modifier in inheritance? How doesit differ from \n",
    "#\"private\" and \"public\" modifiers?"
   ]
  },
  {
   "cell_type": "markdown",
   "id": "25be5ada",
   "metadata": {},
   "source": [
    "\n",
    "In object-oriented programming, access modifiers  \n",
    "control the visibility and accessibility of class members (fields, methods, properties)\n",
    "from other classes, including subclasses in the context of inheritance. The \"protected\" access modifier is\n",
    "significant in inheritance because it offers a middle ground between \"private\" and \"public\" access,\n",
    "providing a level of encapsulation and control over class members."
   ]
  },
  {
   "cell_type": "code",
   "execution_count": 4,
   "id": "d72efe15",
   "metadata": {},
   "outputs": [
    {
     "name": "stdout",
     "output_type": "stream",
     "text": [
      "42\n"
     ]
    }
   ],
   "source": [
    "class MyBaseClass:\n",
    "    def __init__(self):\n",
    "        self._protected_var = 42\n",
    "\n",
    "class MyDerivedClass(MyBaseClass):\n",
    "    def __init__(self):\n",
    "        super().__init__()\n",
    "        print(self._protected_var)  \n",
    "\n",
    "obj = MyDerivedClass()"
   ]
  },
  {
   "cell_type": "markdown",
   "id": "304e23bd",
   "metadata": {},
   "source": [
    "when we want to provide access to class members for subclasses to use and potentially override or extend\n",
    "their behavior while still maintaining some level of encapsulation."
   ]
  },
  {
   "cell_type": "code",
   "execution_count": 5,
   "id": "deb2f5ad",
   "metadata": {},
   "outputs": [],
   "source": [
    "#5.What is the purpose of the \"super\" keyword in inheritance? Provide an example."
   ]
  },
  {
   "cell_type": "markdown",
   "id": "5bcc05a0",
   "metadata": {},
   "source": [
    "The \"super\" keyword in inheritance is used to call and invoke the methods or \n",
    "constructors of the superclass (or base class) from within a subclass (or derived class). It is a way to access \n",
    "and utilize the functionality provided by the parent class \n",
    "when we override or extend its methods in the child class"
   ]
  },
  {
   "cell_type": "code",
   "execution_count": 1,
   "id": "98928e03",
   "metadata": {},
   "outputs": [
    {
     "name": "stdout",
     "output_type": "stream",
     "text": [
      "Name: subhash\n",
      "Age: 25\n"
     ]
    }
   ],
   "source": [
    "class Parent:\n",
    "    def __init__(self, name):\n",
    "        self.name = name\n",
    "\n",
    "    def display_info(self):\n",
    "        print(f\"Name: {self.name}\")\n",
    "\n",
    "class Child(Parent):\n",
    "    def __init__(self, name, age):\n",
    "      \n",
    "        super().__init__(name)\n",
    "        self.age = age\n",
    "\n",
    "    def display_info(self):\n",
    "       \n",
    "        super().display_info()\n",
    "        print(f\"Age: {self.age}\")\n",
    "\n",
    "\n",
    "child = Child(\"subhash\", 25)\n",
    "\n",
    "child.display_info()\n"
   ]
  },
  {
   "cell_type": "code",
   "execution_count": 7,
   "id": "c8c8cb72",
   "metadata": {},
   "outputs": [],
   "source": [
    "#7.Create a base class called \"Vehicle\" with attributes like \"make\", \"model\", and \"year\".\n",
    "#Then, create a derived class called \"Car\" that inherits from \"Vehicle\" and adds an\n",
    "#attribute called \"fuel_type\". Implement appropriate methods in both classes."
   ]
  },
  {
   "cell_type": "code",
   "execution_count": 8,
   "id": "795521aa",
   "metadata": {},
   "outputs": [
    {
     "name": "stdout",
     "output_type": "stream",
     "text": [
      "Make: Toyota\n",
      "Model: Camry\n",
      "Year: 2022\n",
      "Fuel Type: Gasoline\n"
     ]
    }
   ],
   "source": [
    "class Vehicle:\n",
    "    def __init__(self, make, model, year):\n",
    "        self.make = make\n",
    "        self.model = model\n",
    "        self.year = year\n",
    "\n",
    "    def display_info(self):\n",
    "        print(f\"Make: {self.make}\")\n",
    "        print(f\"Model: {self.model}\")\n",
    "        print(f\"Year: {self.year}\")\n",
    "\n",
    "class Car(Vehicle):\n",
    "    def __init__(self, make, model, year, fuel_type):\n",
    "        \n",
    "        super().__init__(make, model, year)\n",
    "        self.fuel_type = fuel_type\n",
    "\n",
    "    def display_info(self):\n",
    "        \n",
    "        super().display_info()\n",
    "        print(f\"Fuel Type: {self.fuel_type}\")\n",
    "\n",
    "my_car = Car(\"Toyota\", \"Camry\", 2022, \"Gasoline\")\n",
    "\n",
    "my_car.display_info()\n"
   ]
  },
  {
   "cell_type": "code",
   "execution_count": 9,
   "id": "b0000c41",
   "metadata": {},
   "outputs": [],
   "source": [
    "#7.Create a base class called \"Employee\" with attributes like \"name\" and \"salary.\"\n",
    "#Derive two classes, \"Manager\" and \"Developer,\" from \"Employee.\" Add an additional\n",
    "#attribute called \"department\" for the \"Manager\" class and \"programming_language\"\n",
    "#for the \"Developer\" class."
   ]
  },
  {
   "cell_type": "code",
   "execution_count": 2,
   "id": "c9e79f5d",
   "metadata": {},
   "outputs": [
    {
     "name": "stdout",
     "output_type": "stream",
     "text": [
      "Manager Information:\n",
      "Name: su Manager\n",
      "Salary: $75000.00\n",
      "Department: HR\n",
      "\n",
      "Developer Information:\n",
      "Name: koushik Developer\n",
      "Salary: $65000.00\n",
      "Programming Language: Python\n"
     ]
    }
   ],
   "source": [
    "class Employee:\n",
    "    def __init__(self, name, salary):\n",
    "        self.name = name\n",
    "        self.salary = salary\n",
    "\n",
    "    def display_info(self):\n",
    "        print(f\"Name: {self.name}\")\n",
    "        print(f\"Salary: ${self.salary:.2f}\")\n",
    "\n",
    "class Manager(Employee):\n",
    "    def __init__(self, name, salary, department):\n",
    "        \n",
    "        super().__init__(name, salary)\n",
    "        self.department = department\n",
    "\n",
    "    def display_info(self):\n",
    "       \n",
    "        super().display_info()\n",
    "        print(f\"Department: {self.department}\")\n",
    "\n",
    "class Developer(Employee):\n",
    "    def __init__(self, name, salary, programming_language):\n",
    "       \n",
    "        super().__init__(name, salary)\n",
    "        self.programming_language = programming_language\n",
    "\n",
    "    def display_info(self):\n",
    "        \n",
    "        super().display_info()\n",
    "        print(f\"Programming Language: {self.programming_language}\")\n",
    "\n",
    "manager = Manager(\"su Manager\", 75000, \"HR\")\n",
    "developer = Developer(\"koushik Developer\", 65000, \"Python\")\n",
    "\n",
    "print(\"Manager Information:\")\n",
    "manager.display_info()\n",
    "\n",
    "print(\"\\nDeveloper Information:\")\n",
    "developer.display_info()\n"
   ]
  },
  {
   "cell_type": "code",
   "execution_count": null,
   "id": "7cb2a300",
   "metadata": {},
   "outputs": [],
   "source": [
    "#8.Design a base class called \"Shape\" with attributes like \"colour\" and \"border_width.\"\n",
    "#Create derived classes, \"Rectangle\" and \"Circle,\" that inherit from \"Shape\" and add\n",
    "#specific attributes like \"length\" and \"width\" for the \"Rectangle\" class and \"radius\" for\n",
    "#the \"Circle\" class."
   ]
  },
  {
   "cell_type": "code",
   "execution_count": 11,
   "id": "49477839",
   "metadata": {},
   "outputs": [
    {
     "name": "stdout",
     "output_type": "stream",
     "text": [
      "Rectangle Information:\n",
      "Colour: Red\n",
      "Border Width: 2 pixels\n",
      "Length: 5 units\n",
      "Width: 7 units\n",
      "Area: 35 square units\n",
      "\n",
      "Circle Information:\n",
      "Colour: Blue\n",
      "Border Width: 3 pixels\n",
      "Radius: 4 units\n",
      "Area: 50.26548245743669 square units\n"
     ]
    }
   ],
   "source": [
    "class Shape:\n",
    "    def __init__(self, colour, border_width):\n",
    "        self.colour = colour\n",
    "        self.border_width = border_width\n",
    "\n",
    "    def display_info(self):\n",
    "        print(f\"Colour: {self.colour}\")\n",
    "        print(f\"Border Width: {self.border_width} pixels\")\n",
    "\n",
    "class Rectangle(Shape):\n",
    "    def __init__(self, colour, border_width, length, width):\n",
    "        \n",
    "        super().__init__(colour, border_width)\n",
    "        self.length = length\n",
    "        self.width = width\n",
    "\n",
    "    def display_info(self):\n",
    "        \n",
    "        super().display_info()\n",
    "        print(f\"Length: {self.length} units\")\n",
    "        print(f\"Width: {self.width} units\")\n",
    "        print(f\"Area: {self.calculate_area()} square units\")\n",
    "\n",
    "    def calculate_area(self):\n",
    "        return self.length * self.width\n",
    "\n",
    "class Circle(Shape):\n",
    "    def __init__(self, colour, border_width, radius):\n",
    "        \n",
    "        super().__init__(colour, border_width)\n",
    "        self.radius = radius\n",
    "\n",
    "    def display_info(self):\n",
    "       \n",
    "        super().display_info()\n",
    "        print(f\"Radius: {self.radius} units\")\n",
    "        print(f\"Area: {self.calculate_area()} square units\")\n",
    "\n",
    "    def calculate_area(self):\n",
    "        import math\n",
    "        return math.pi * self.radius ** 2\n",
    "\n",
    "rectangle = Rectangle(\"Red\", 2, 5, 7)\n",
    "circle = Circle(\"Blue\", 3, 4)\n",
    "\n",
    "print(\"Rectangle Information:\")\n",
    "rectangle.display_info()\n",
    "\n",
    "print(\"\\nCircle Information:\")\n",
    "circle.display_info()\n"
   ]
  },
  {
   "cell_type": "code",
   "execution_count": 12,
   "id": "f19334e2",
   "metadata": {},
   "outputs": [],
   "source": [
    "#9.Create a base class called \"Device\" with attributes like \"brand\" and \"model.\" Derive\n",
    "#two classes, \"Phone\" and \"Tablet,\" from \"Device.\" Add specific attributes like\n",
    "#\"screen_size\" for the \"Phone\" class and \"battery_capacity\" for the \"Tablet\" class."
   ]
  },
  {
   "cell_type": "code",
   "execution_count": 3,
   "id": "a100a371",
   "metadata": {},
   "outputs": [
    {
     "name": "stdout",
     "output_type": "stream",
     "text": [
      "Phone Information:\n",
      "Brand: Apple\n",
      "Model: iPhone 13\n",
      "Screen Size: 6.1 inches\n",
      "\n",
      "Tablet Information:\n",
      "Brand: Samsung\n",
      "Model: Galaxy Tab S7\n",
      "Battery Capacity: 8000 mAh\n"
     ]
    }
   ],
   "source": [
    "class Device:\n",
    "    def __init__(self, brand, model):\n",
    "        self.brand = brand\n",
    "        self.model = model\n",
    "\n",
    "    def display_info(self):\n",
    "        print(f\"Brand: {self.brand}\")\n",
    "        print(f\"Model: {self.model}\")\n",
    "\n",
    "class Phone(Device):\n",
    "    def __init__(self, brand, model, screen_size):\n",
    "        \n",
    "        super().__init__(brand, model)\n",
    "        self.screen_size = screen_size\n",
    "\n",
    "    def display_info(self):\n",
    "       \n",
    "        super().display_info()\n",
    "        print(f\"Screen Size: {self.screen_size} inches\")\n",
    "\n",
    "class Tablet(Device):\n",
    "    def __init__(self, brand, model, battery_capacity):\n",
    "        \n",
    "        super().__init__(brand, model)\n",
    "        self.battery_capacity = battery_capacity\n",
    "\n",
    "    def display_info(self):\n",
    "       \n",
    "        super().display_info()\n",
    "        print(f\"Battery Capacity: {self.battery_capacity} mAh\")\n",
    "\n",
    "phone = Phone(\"Apple\", \"iPhone 13\", 6.1)\n",
    "tablet = Tablet(\"Samsung\", \"Galaxy Tab S7\", 8000)\n",
    "\n",
    "print(\"Phone Information:\")\n",
    "phone.display_info()\n",
    "\n",
    "print(\"\\nTablet Information:\")\n",
    "tablet.display_info()\n"
   ]
  },
  {
   "cell_type": "code",
   "execution_count": 14,
   "id": "32ce552d",
   "metadata": {},
   "outputs": [],
   "source": [
    "#10.Create a base class called \"BankAccount\" with attributes like \"account_number\" and\n",
    "#\"balance.\" Derive two classes, \"SavingsAccount\" and \"CheckingAccount,\" from\n",
    "#\"BankAccount.\" Add specific methods like \"calculate_interest\" for the\n",
    "#\"SavingsAccount\" class and \"deduct_fees\" for the \"CheckingAccount\" class."
   ]
  },
  {
   "cell_type": "code",
   "execution_count": 4,
   "id": "2c0456e9",
   "metadata": {},
   "outputs": [
    {
     "name": "stdout",
     "output_type": "stream",
     "text": [
      "Savings Account Information:\n",
      "Account Number: SA12345\n",
      "Balance: 5000.00\n",
      "Interest Rate: 2.5%\n",
      "Account Number: SA12345\n",
      "Balance: 5125.00\n",
      "Interest Rate: 2.5%\n",
      "\n",
      "Checking Account Information:\n",
      "Account Number: CA67890\n",
      "Balance: 3000.00\n",
      "Transaction Fee: 1.00\n",
      "Account Number: CA67890\n",
      "Balance: 2995.00\n",
      "Transaction Fee: 1.00\n"
     ]
    }
   ],
   "source": [
    "class BankAccount:\n",
    "    def __init__(self, account_number, balance):\n",
    "        self.account_number = account_number\n",
    "        self.balance = balance\n",
    "\n",
    "    def display_info(self):\n",
    "        print(f\"Account Number: {self.account_number}\")\n",
    "        print(f\"Balance: {self.balance:.2f}\")\n",
    "\n",
    "class SavingsAccount(BankAccount):\n",
    "    def __init__(self, account_number, balance, interest_rate):\n",
    "       \n",
    "        super().__init__(account_number, balance)\n",
    "        self.interest_rate = interest_rate\n",
    "\n",
    "    def display_info(self):\n",
    "        \n",
    "        super().display_info()\n",
    "        print(f\"Interest Rate: {self.interest_rate}%\")\n",
    "\n",
    "    def calculate_interest(self):\n",
    "        \n",
    "        interest = self.balance * (self.interest_rate / 100)\n",
    "        self.balance += interest\n",
    "\n",
    "class CheckingAccount(BankAccount):\n",
    "    def __init__(self, account_number, balance, fee_per_transaction):\n",
    "        \n",
    "        super().__init__(account_number, balance)\n",
    "        self.fee_per_transaction = fee_per_transaction\n",
    "\n",
    "    def display_info(self):\n",
    "        \n",
    "        super().display_info()\n",
    "        print(f\"Transaction Fee: {self.fee_per_transaction:.2f}\")\n",
    "\n",
    "    def deduct_fees(self, num_transactions):\n",
    "        \n",
    "        total_fee = self.fee_per_transaction * num_transactions\n",
    "        if total_fee <= self.balance:\n",
    "            self.balance -= total_fee\n",
    "        else:\n",
    "            print(\"Insufficient balance to cover transaction fees.\")\n",
    "\n",
    "savings_account = SavingsAccount(\"SA12345\", 5000, 2.5)\n",
    "checking_account = CheckingAccount(\"CA67890\", 3000, 1.0)\n",
    "\n",
    "print(\"Savings Account Information:\")\n",
    "savings_account.display_info()\n",
    "savings_account.calculate_interest()\n",
    "savings_account.display_info()\n",
    "\n",
    "print(\"\\nChecking Account Information:\")\n",
    "checking_account.display_info()\n",
    "checking_account.deduct_fees(5)\n",
    "checking_account.display_info()\n"
   ]
  },
  {
   "cell_type": "code",
   "execution_count": null,
   "id": "c1a08fca",
   "metadata": {},
   "outputs": [],
   "source": []
  },
  {
   "cell_type": "code",
   "execution_count": null,
   "id": "ba0f5ae3",
   "metadata": {},
   "outputs": [],
   "source": []
  },
  {
   "cell_type": "code",
   "execution_count": null,
   "id": "3d0c2622",
   "metadata": {},
   "outputs": [],
   "source": []
  },
  {
   "cell_type": "code",
   "execution_count": null,
   "id": "47bc38c7",
   "metadata": {},
   "outputs": [],
   "source": []
  }
 ],
 "metadata": {
  "kernelspec": {
   "display_name": "Python 3",
   "language": "python",
   "name": "python3"
  },
  "language_info": {
   "codemirror_mode": {
    "name": "ipython",
    "version": 3
   },
   "file_extension": ".py",
   "mimetype": "text/x-python",
   "name": "python",
   "nbconvert_exporter": "python",
   "pygments_lexer": "ipython3",
   "version": "3.8.8"
  }
 },
 "nbformat": 4,
 "nbformat_minor": 5
}
