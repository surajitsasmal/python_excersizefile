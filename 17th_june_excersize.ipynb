{
 "cells": [
  {
   "cell_type": "code",
   "execution_count": 1,
   "id": "2cb47f44",
   "metadata": {},
   "outputs": [],
   "source": [
    "#1.What is the role of try and exception block?"
   ]
  },
  {
   "cell_type": "raw",
   "id": "8968920b",
   "metadata": {},
   "source": [
    "The primary role of a try-catch block is to handle errors or exceptions gracefully. \n",
    "When we place a section of code within a try block, we're essentially telling the program to attempt executing that code.\n",
    "If an error or exception occurs during the execution of the code within the try block, the program doesn't crash immediately.\n",
    "Instead, it transfers control to the corresponding \n",
    "catch block, which contains code to handle the exception."
   ]
  },
  {
   "cell_type": "code",
   "execution_count": 5,
   "id": "20106aaa",
   "metadata": {},
   "outputs": [
    {
     "name": "stdout",
     "output_type": "stream",
     "text": [
      "Error: Division by zero\n"
     ]
    }
   ],
   "source": [
    "try:\n",
    "    result = 10 / 0  \n",
    "except ZeroDivisionError:\n",
    "    print(\"Error: Division by zero\")\n",
    "except Exception as e:\n",
    "    \n",
    "    print(\"An error occurred:\", str(e))"
   ]
  },
  {
   "cell_type": "code",
   "execution_count": 9,
   "id": "24fc37ca",
   "metadata": {},
   "outputs": [
    {
     "name": "stdout",
     "output_type": "stream",
     "text": [
      "Enter a number: 2\n",
      "Result: 5.0\n"
     ]
    }
   ],
   "source": [
    "try:\n",
    "    x = int(input(\"Enter a number: \"))\n",
    "    result = 10 / x\n",
    "    print(\"Result:\", result)\n",
    "except ZeroDivisionError:\n",
    "    print(\"Error: Division by zero\")\n",
    "except ValueError:\n",
    "    print(\"Error: Invalid input. Please enter a valid number.\")"
   ]
  },
  {
   "cell_type": "code",
   "execution_count": 6,
   "id": "17657ffb",
   "metadata": {},
   "outputs": [],
   "source": [
    "#2.What is the syntax for a basic try-except block?"
   ]
  },
  {
   "cell_type": "raw",
   "id": "272b9a0a",
   "metadata": {},
   "source": [
    "try:\n",
    "    # Code that may raise an exception\n",
    "    # ...\n",
    "except ExceptionType:\n",
    "    # Code to handle the specific exception (ExceptionType)\n",
    "    #...."
   ]
  },
  {
   "cell_type": "code",
   "execution_count": 8,
   "id": "393af877",
   "metadata": {},
   "outputs": [],
   "source": [
    "#3.What happens if an exception occurs inside a try block and there is no matching except block?"
   ]
  },
  {
   "cell_type": "raw",
   "id": "c274576d",
   "metadata": {},
   "source": [
    "If an exception occurs inside a try block, and there is no matching except block to\n",
    "handle that exception, the program will terminate abruptly, and an unhandled exception error message \n",
    "will be displayed. This can lead to the program crashing, and \n",
    "any subsequent code after the try block will not be executed."
   ]
  },
  {
   "cell_type": "code",
   "execution_count": 10,
   "id": "6d112ddd",
   "metadata": {},
   "outputs": [],
   "source": [
    "#4.What is the difference between using a bare except block and specifying a specific exception type?"
   ]
  },
  {
   "cell_type": "raw",
   "id": "0bb7cb29",
   "metadata": {},
   "source": [
    "Bare except Block (Generic Exception Handling):\n",
    "\n",
    "A bare except block, without specifying any exception type, acts as a catch-all\n",
    "for any exception that occurs within the try block. It will catch and handle any exception, regardless of its type.\n",
    "\n",
    "While it provides a way to handle unexpected exceptions, it should be used sparingly \n",
    "and with caution because it makes it challenging to distinguish between different types of exceptions"
   ]
  },
  {
   "cell_type": "code",
   "execution_count": 11,
   "id": "a2337a8c",
   "metadata": {},
   "outputs": [
    {
     "name": "stdout",
     "output_type": "stream",
     "text": [
      "Enter a number: 0\n",
      "An error occurred.\n"
     ]
    }
   ],
   "source": [
    "try:\n",
    "    x = int(input(\"Enter a number: \"))\n",
    "    result = 10 / x\n",
    "    print(\"Result:\", result)\n",
    "except:\n",
    "    print(\"An error occurred.\")"
   ]
  },
  {
   "cell_type": "raw",
   "id": "f0ee4e7b",
   "metadata": {},
   "source": [
    "When we specify a specific exception type in an except block, we are indicating that we want to catch and handle\n",
    "only that particular type of exception. For example, except ValueError\n",
    "will catch and handle ValueError exceptions but not other types of exceptions."
   ]
  },
  {
   "cell_type": "code",
   "execution_count": 12,
   "id": "dd877b6e",
   "metadata": {},
   "outputs": [
    {
     "name": "stdout",
     "output_type": "stream",
     "text": [
      "Enter a number: 0\n",
      "Error: Division by zero\n"
     ]
    }
   ],
   "source": [
    "try:\n",
    "    x = int(input(\"Enter a number: \"))\n",
    "    result = 10 / x\n",
    "    print(\"Result:\", result)\n",
    "except ValueError:\n",
    "    print(\"Error: Invalid input. Please enter a valid number.\")\n",
    "except ZeroDivisionError:\n",
    "    print(\"Error: Division by zero\")"
   ]
  },
  {
   "cell_type": "code",
   "execution_count": 13,
   "id": "5282b80f",
   "metadata": {},
   "outputs": [],
   "source": [
    "#5.Can you have nested try-except blocks in Python? If yes, then give an example."
   ]
  },
  {
   "cell_type": "code",
   "execution_count": 14,
   "id": "0b42c565",
   "metadata": {},
   "outputs": [
    {
     "name": "stdout",
     "output_type": "stream",
     "text": [
      "Enter a number: 3\n",
      "Result: 3.3333333333333335\n",
      "Enter another number: 2\n",
      "Result2: 1.5\n"
     ]
    }
   ],
   "source": [
    "#Yes, we can have nested try-except blocks in Python\n",
    "try:\n",
    "    \n",
    "    x = int(input(\"Enter a number: \"))\n",
    "    result = 10 / x\n",
    "    print(\"Result:\", result)\n",
    "    \n",
    "    try:\n",
    "        \n",
    "        y = int(input(\"Enter another number: \"))\n",
    "        result2 = x / y\n",
    "        print(\"Result2:\", result2)\n",
    "    except ZeroDivisionError:\n",
    "        print(\"Inner Error: Division by zero\")\n",
    "    except ValueError:\n",
    "        print(\"Inner Error: Invalid input for the second number.\")\n",
    "except ZeroDivisionError:\n",
    "    print(\"Outer Error: Division by zero\")\n",
    "except ValueError:\n",
    "    print(\"Outer Error: Invalid input for the first number.\")\n",
    "except Exception as e:\n",
    "    print(\"An unexpected error occurred:\", str(e))"
   ]
  },
  {
   "cell_type": "code",
   "execution_count": 15,
   "id": "069cf190",
   "metadata": {},
   "outputs": [],
   "source": [
    "#6.Can we use multiple exception blocks, if yes then give an example."
   ]
  },
  {
   "cell_type": "code",
   "execution_count": 17,
   "id": "b993c2dc",
   "metadata": {},
   "outputs": [
    {
     "name": "stdout",
     "output_type": "stream",
     "text": [
      "Enter a number: r\n",
      "Error: Invalid input. Please enter a valid number.\n"
     ]
    }
   ],
   "source": [
    "#Yes, we can use multiple except blocks to handle multiple types of exceptions in Python\n",
    "try:\n",
    "    x = int(input(\"Enter a number: \"))\n",
    "    result = 10 / x\n",
    "    print(\"Result:\", result)\n",
    "except ZeroDivisionError:\n",
    "    print(\"Error: Division by zero\")\n",
    "except ValueError:\n",
    "    print(\"Error: Invalid input. Please enter a valid number.\")\n",
    "except Exception as e:\n",
    "    print(\"An unexpected error occurred:\", str(e))"
   ]
  },
  {
   "cell_type": "raw",
   "id": "f52c9d17",
   "metadata": {},
   "source": [
    "#7.Write the reason due to which following errors are raised:\n",
    "a. EOFError\n",
    "b. FloatingPointError\n",
    "c. IndexError\n",
    "d. MemoryError\n",
    "e. OverflowError\n",
    "f. TabError\n",
    "g. ValueError"
   ]
  },
  {
   "cell_type": "raw",
   "id": "f9e52262",
   "metadata": {},
   "source": [
    "An EOFError), which stands for \"End of File Error,\" is raised when an input operation \n",
    "(typically reading fra file or the standard input)\n",
    "reaches the end of the file \n",
    "or stream unexpectedly. This error occurs when the program attempts to read more data than is available.\n",
    "b)\n",
    "\n",
    "A FloatingPointError occurs when there is an issue with\n",
    "floating-point arithmetic, such as dividing by zero or attempting an invalid operation on\n",
    "a floating-point number. This error typically arises in mathematical calculations involving floating-point numbers.\n",
    "c) IndexError:\n",
    "\n",
    "An IndexError is raised when you try to access an index of a sequence (e.g., a list, tuple, or string)\n",
    "that is out of range. This means you're trying to access an element at an index that doesn't exist in the sequence.\n",
    "d)A MemoryError is raised when the Python program runs out of available memory. This occurs when you try to allocate\n",
    "more memory than the system can provide, usually due to excessive memory consumption, such as creating large data structures\n",
    "or recursive function calls.\n",
    "e) OverflowError:\n",
    "\n",
    "An OverflowError is raised when a numerical operation exceeds the representational limits of a numeric data type. \n",
    "For example, it can occur when performing calculations that result in a value too large (positive overflow) \n",
    "or too small (negative overflow) to be represented by the data type.\n",
    "f) TabError\n",
    "\n",
    "A TabError is raised when there is an issue with the indentation of code.\n",
    "It typically occurs when tabs and spaces are mixed inconsistently for indentation in a Python script.\n",
    "Python expects consistent indentation to determine block structure.\n",
    "g) ValueError:\n",
    "\n",
    "A ValueError is raised when a function receives an argument of the correct data type but with an invalid value.\n",
    "For example, trying to convert a string that doesn't represent a valid integer to an integer using int() would\n",
    "\n"
   ]
  },
  {
   "cell_type": "raw",
   "id": "30b1bc73",
   "metadata": {},
   "source": [
    "8. Write code for the following given scenario and add try-exception block to it.\n",
    "a. Program to divide two numbers\n",
    "b. Program to convert a string to an integer\n",
    "c. Program to access an element in a list\n",
    "d. Program to handle a specific exception\n",
    "e. Program to handle any exception"
   ]
  },
  {
   "cell_type": "code",
   "execution_count": 21,
   "id": "1f85a531",
   "metadata": {},
   "outputs": [
    {
     "name": "stdout",
     "output_type": "stream",
     "text": [
      "Enter the dividend: 8\n",
      "Enter the divisor: 6\n",
      "Result: 1.3333333333333333\n"
     ]
    }
   ],
   "source": [
    "try:\n",
    "    dividend = float(input(\"Enter the dividend: \"))\n",
    "    divisor = float(input(\"Enter the divisor: \"))\n",
    "    result = dividend / divisor\n",
    "    print(\"Result:\", result)\n",
    "except ZeroDivisionError:\n",
    "    print(\"Error: Division by zero is not allowed.\")\n",
    "except ValueError:\n",
    "    print(\"Error: Please enter valid numeric values.\")\n",
    "except Exception as e:\n",
    "    print(\"An unexpected error occurred:\", str(e))"
   ]
  },
  {
   "cell_type": "code",
   "execution_count": 20,
   "id": "c5b487a8",
   "metadata": {},
   "outputs": [
    {
     "name": "stdout",
     "output_type": "stream",
     "text": [
      "Enter an integer: 7.8\n",
      "Error: Invalid input. Please enter a valid integer.\n"
     ]
    }
   ],
   "source": [
    "try:\n",
    "    input_string = input(\"Enter an integer: \")\n",
    "    integer_value = int(input_string)\n",
    "    print(\"Integer:\", integer_value)\n",
    "except ValueError:\n",
    "    print(\"Error: Invalid input. Please enter a valid integer.\")\n",
    "except Exception as e:\n",
    "    print(\"An unexpected error occurred:\", str(e))"
   ]
  },
  {
   "cell_type": "code",
   "execution_count": 19,
   "id": "5a27c0a9",
   "metadata": {},
   "outputs": [
    {
     "name": "stdout",
     "output_type": "stream",
     "text": [
      "Enter an index: 6\n",
      "Error: Index is out of range.\n"
     ]
    }
   ],
   "source": [
    "try:\n",
    "    my_list = [1, 2, 3, 4, 5]\n",
    "    index = int(input(\"Enter an index: \"))\n",
    "    element = my_list[index]\n",
    "    print(\"Element at index\", index, \"is\", element)\n",
    "except IndexError:\n",
    "    print(\"Error: Index is out of range.\")\n",
    "except ValueError:\n",
    "    print(\"Error: Please enter a valid integer index.\")\n",
    "except Exception as e:\n",
    "    print(\"An unexpected error occurred:\", str(e))"
   ]
  },
  {
   "cell_type": "code",
   "execution_count": 18,
   "id": "a4bce9a9",
   "metadata": {},
   "outputs": [
    {
     "name": "stdout",
     "output_type": "stream",
     "text": [
      "Enter a number: y\n",
      "An unexpected error occurred: invalid literal for int() with base 10: 'y'\n"
     ]
    }
   ],
   "source": [
    "try:\n",
    "    x = int(input(\"Enter a number: \"))\n",
    "    result = 10 / x\n",
    "    print(\"Result:\", result)\n",
    "except Exception as e:\n",
    "    print(\"An unexpected error occurred:\", str(e))"
   ]
  },
  {
   "cell_type": "code",
   "execution_count": null,
   "id": "faa521bd",
   "metadata": {},
   "outputs": [],
   "source": []
  }
 ],
 "metadata": {
  "kernelspec": {
   "display_name": "Python 3",
   "language": "python",
   "name": "python3"
  },
  "language_info": {
   "codemirror_mode": {
    "name": "ipython",
    "version": 3
   },
   "file_extension": ".py",
   "mimetype": "text/x-python",
   "name": "python",
   "nbconvert_exporter": "python",
   "pygments_lexer": "ipython3",
   "version": "3.8.8"
  }
 },
 "nbformat": 4,
 "nbformat_minor": 5
}
