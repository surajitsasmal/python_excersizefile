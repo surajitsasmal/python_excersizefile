{
 "cells": [
  {
   "cell_type": "code",
   "execution_count": 1,
   "id": "39a62c96",
   "metadata": {},
   "outputs": [],
   "source": [
    "#1.What is the role of the 'else' block in a try-except statement? Provide an example\n",
    "#scenario where it would be useful."
   ]
  },
  {
   "cell_type": "raw",
   "id": "f3939e16",
   "metadata": {},
   "source": [
    "the else block is used to define a block of code that should be\n",
    "executed if no exceptions are raised in the try block. This can be useful when we want to perform some \n",
    "actions only if the code in the try block runs successfully without any exceptions."
   ]
  },
  {
   "cell_type": "code",
   "execution_count": 2,
   "id": "59262f4a",
   "metadata": {},
   "outputs": [
    {
     "name": "stdout",
     "output_type": "stream",
     "text": [
      "The result of 10 / 2 is 5.0\n",
      "Division by zero is not allowed.\n"
     ]
    }
   ],
   "source": [
    "def divide(x, y):\n",
    "    try:\n",
    "        result = x / y\n",
    "    except ZeroDivisionError:\n",
    "        print(\"Division by zero is not allowed.\")\n",
    "    else:\n",
    "        print(f\"The result of {x} / {y} is {result}\")\n",
    "\n",
    "\n",
    "divide(10, 2)  \n",
    "divide(10, 0)"
   ]
  },
  {
   "cell_type": "code",
   "execution_count": 3,
   "id": "444e454d",
   "metadata": {},
   "outputs": [],
   "source": [
    "#2.Can a try-except block be nested inside another try-except block? Explain with an example."
   ]
  },
  {
   "cell_type": "code",
   "execution_count": 5,
   "id": "5c4999a0",
   "metadata": {},
   "outputs": [],
   "source": [
    "#Yes, a try-except block can be nested inside another try-except block."
   ]
  },
  {
   "cell_type": "code",
   "execution_count": 4,
   "id": "975c792d",
   "metadata": {},
   "outputs": [
    {
     "name": "stdout",
     "output_type": "stream",
     "text": [
      "The result of 10 / 2 is 5.0\n",
      "Calculation was successful.\n",
      "Division by zero is not allowed.\n",
      "Calculation was successful.\n",
      "Invalid data types for division.\n",
      "Calculation was successful.\n"
     ]
    }
   ],
   "source": [
    "def divide(x, y):\n",
    "    try:\n",
    "        result = x / y\n",
    "    except ZeroDivisionError:\n",
    "        print(\"Division by zero is not allowed.\")\n",
    "    except TypeError:\n",
    "        print(\"Invalid data types for division.\")\n",
    "    else:\n",
    "        print(f\"The result of {x} / {y} is {result}\")\n",
    "\n",
    "def perform_calculation(a, b):\n",
    "    try:\n",
    "        divide_result = divide(a, b)\n",
    "    except ValueError:\n",
    "        print(\"Invalid input for division.\")\n",
    "    else:\n",
    "        print(\"Calculation was successful.\")\n",
    "\n",
    "\n",
    "perform_calculation(10, 2)     \n",
    "perform_calculation(10, 0)     \n",
    "perform_calculation(\"10\", \"2\")"
   ]
  },
  {
   "cell_type": "code",
   "execution_count": 6,
   "id": "3a8e872d",
   "metadata": {},
   "outputs": [],
   "source": [
    "#3.How can you create a custom exception class in Python? Provide an example that demonstrates its usage."
   ]
  },
  {
   "cell_type": "code",
   "execution_count": 8,
   "id": "1b07173a",
   "metadata": {},
   "outputs": [
    {
     "name": "stdout",
     "output_type": "stream",
     "text": [
      "Caught an exception: Value 100 exceeds the limit of 50\n"
     ]
    }
   ],
   "source": [
    "class ValueTooHighError(Exception):\n",
    "    def __init__(self, value, limit):\n",
    "        super().__init__(f\"Value {value} exceeds the limit of {limit}\")\n",
    "        self.value = value\n",
    "        self.limit = limit\n",
    "\n",
    "def check_value(value, limit):\n",
    "    if value > limit:\n",
    "        raise ValueTooHighError(value, limit)\n",
    "\n",
    "\n",
    "try:\n",
    "    check_value(100, 50)\n",
    "except ValueTooHighError as e:\n",
    "    print(f\"Caught an exception: {e}\")"
   ]
  },
  {
   "cell_type": "code",
   "execution_count": 9,
   "id": "7cdff449",
   "metadata": {},
   "outputs": [],
   "source": [
    "#4.What are some common exceptions that are built-in to Python?"
   ]
  },
  {
   "cell_type": "raw",
   "id": "2470583d",
   "metadata": {},
   "source": [
    "SyntaxError: Raised when there is a syntax error in the code.\n",
    "\n",
    "IndentationError: Raised when there is an issue with the indentation of code.\n",
    "\n",
    "NameError: Raised when a local or global name is not found.\n",
    "\n",
    "TypeError: Raised when an operation is performed on an object of inappropriate type.\n",
    "\n",
    "ValueError: Raised when a function receives an argument of correct type but with an inappropriate value.\n",
    "\n",
    "ZeroDivisionError: Raised when division or modulo operation is performed with zero as the denominator.\n",
    "\n",
    "IndexError: Raised when an index is out of range for a sequence (e.g., list or tuple).\n",
    "\n",
    "KeyError: Raised when a dictionary is accessed with a key that does not exist.\n",
    "\n",
    "FileNotFoundError: Raised when an attempt to open a file fails because the file does not exist."
   ]
  },
  {
   "cell_type": "code",
   "execution_count": 12,
   "id": "1b8d2c0d",
   "metadata": {},
   "outputs": [],
   "source": [
    "#5.What is logging in Python, and why is it important in software development?"
   ]
  },
  {
   "cell_type": "raw",
   "id": "47175bc8",
   "metadata": {},
   "source": [
    " logging is a crucial tool for ensuring the reliability, maintainability, and security of \n",
    "software applications. It helps developers and operators understand what's happening within the code and the broader system,\n",
    "which is essential for both development and ongoing operations."
   ]
  },
  {
   "cell_type": "code",
   "execution_count": 11,
   "id": "196858b9",
   "metadata": {},
   "outputs": [],
   "source": [
    "import logging\n",
    "logging.basicConfig(filename='example.log', level=logging.DEBUG, format='%(asctime)s - %(levelname)s - %(message)s')\n",
    "\n",
    "# Log messages\n",
    "logging.debug('This is a debug message.')\n",
    "logging.info('This is an info message.')\n",
    "logging.warning('This is a warning message.')\n",
    "logging.error('This is an error message.')\n",
    "logging.critical('This is a critical message.')"
   ]
  },
  {
   "cell_type": "code",
   "execution_count": 13,
   "id": "b6b8334b",
   "metadata": {},
   "outputs": [],
   "source": [
    "#6.Explain the purpose of log levels in Python logging and provide examples of when each log level would be appropriate."
   ]
  },
  {
   "cell_type": "raw",
   "id": "d16d8144",
   "metadata": {},
   "source": [
    "Log levels in Python logging are used to categorize and prioritize log messages based\n",
    "on their severity or importance. They help developers and operators control the amount\n",
    "of detail in log output and allow them to focus on specific types of messages during debugging, \n",
    "troubleshooting, and monitoring. Python's logging module defines several log levels, \n",
    "each serving a distinct purpose. "
   ]
  },
  {
   "cell_type": "raw",
   "id": "2aa80455",
   "metadata": {},
   "source": [
    "DEBUG: This is the lowest and most detailed log level. It is typically used for messages that provide detailed \n",
    "    information about the program's execution, \n",
    "    such as variable values, function calls, or loop iterations. "
   ]
  },
  {
   "cell_type": "code",
   "execution_count": 15,
   "id": "7614a8e6",
   "metadata": {},
   "outputs": [],
   "source": [
    "#logging.debug(\"Entering function foo() with arguments x=%s, y=%s\", x, y)"
   ]
  },
  {
   "cell_type": "raw",
   "id": "960aeefa",
   "metadata": {},
   "source": [
    "INFO: Info-level messages provide general information about the program's operation. \n",
    "    They are used to indicate significant program events, such as the start and stop of critical processes,\n",
    "    successful initialization, or important milestones."
   ]
  },
  {
   "cell_type": "code",
   "execution_count": 16,
   "id": "51ddb8c5",
   "metadata": {},
   "outputs": [],
   "source": [
    "#logging.info(\"Server started successfully on port 8080.\")"
   ]
  },
  {
   "cell_type": "raw",
   "id": "7d2065b9",
   "metadata": {},
   "source": [
    "WARNING: Warning-level messages indicate potential issues or unexpected conditions\n",
    "    that are not necessarily critical but should be noted"
   ]
  },
  {
   "cell_type": "code",
   "execution_count": 17,
   "id": "9d1134cd",
   "metadata": {},
   "outputs": [],
   "source": [
    "logging.warning(\"Deprecation warning: This function will be removed in the next release.\")"
   ]
  },
  {
   "cell_type": "raw",
   "id": "c55d2d85",
   "metadata": {},
   "source": [
    "ERROR: Error-level messages are used to report errors that prevent the program from performing a\n",
    "    specific task or operation but do not cause the program to terminate."
   ]
  },
  {
   "cell_type": "code",
   "execution_count": 18,
   "id": "8ea3c885",
   "metadata": {},
   "outputs": [],
   "source": [
    "logging.error(\"Failed to connect to the database. Check the database configuration.\")"
   ]
  },
  {
   "cell_type": "raw",
   "id": "4ad367b0",
   "metadata": {},
   "source": [
    "CRITICAL: Critical-level messages represent severe errors or exceptions that\n",
    "    may lead to the application's termination or a critical system failure."
   ]
  },
  {
   "cell_type": "code",
   "execution_count": 19,
   "id": "8998b4e2",
   "metadata": {},
   "outputs": [],
   "source": [
    "logging.critical(\"System outage: Unable to access critical services. Immediate action required.\")"
   ]
  },
  {
   "cell_type": "code",
   "execution_count": 20,
   "id": "368c47d2",
   "metadata": {},
   "outputs": [],
   "source": [
    "#7.What are log formatters in Python logging, and how can you customise the log message format using formatters?"
   ]
  },
  {
   "cell_type": "raw",
   "id": "d16b3ebc",
   "metadata": {},
   "source": [
    "Log formatters in Python logging are responsible for defining the structure and\n",
    "appearance of log messages. They allow you to customize how log messages are formatted before they are output to the chosen log\n",
    "destination, such as a file, console, or network service. "
   ]
  },
  {
   "cell_type": "code",
   "execution_count": 21,
   "id": "e26894c8",
   "metadata": {},
   "outputs": [],
   "source": [
    "import logging\n",
    "\n",
    "# Step 2: Create a formatter\n",
    "log_format = '%(asctime)s - %(name)s - %(levelname)s - %(message)s'\n",
    "formatter = logging.Formatter(log_format)\n",
    "\n",
    "file_handler = logging.FileHandler('app.log')\n",
    "file_handler.setFormatter(formatter)\n",
    "logger = logging.getLogger('my_app')\n",
    "logger.setLevel(logging.DEBUG)\n",
    "logger.addHandler(file_handler)\n",
    "\n",
    "logger.debug('This is a debug message.')\n",
    "logger.info('This is an info message.')\n",
    "\n",
    "\n"
   ]
  },
  {
   "cell_type": "code",
   "execution_count": 22,
   "id": "5747fc0c",
   "metadata": {},
   "outputs": [],
   "source": [
    "#8.How can you set up logging to capture log messages from multiple modules or classes in a Python application?"
   ]
  },
  {
   "cell_type": "code",
   "execution_count": 23,
   "id": "864e6ded",
   "metadata": {},
   "outputs": [],
   "source": [
    "import logging\n",
    "logging.basicConfig(\n",
    "    level=logging.DEBUG,  # Set the log level to capture all messages\n",
    "    format='%(asctime)s - %(name)s - %(levelname)s - %(message)s',\n",
    "    filename='app.log',  # Specify a log file\n",
    "    filemode='w'  # Use 'w' to overwrite the log file, 'a' to append\n",
    ")"
   ]
  },
  {
   "cell_type": "code",
   "execution_count": 24,
   "id": "2dca5f52",
   "metadata": {},
   "outputs": [],
   "source": [
    "logger = logging.getLogger('module_name')"
   ]
  },
  {
   "cell_type": "code",
   "execution_count": 25,
   "id": "cca10d0d",
   "metadata": {},
   "outputs": [],
   "source": [
    "logger.debug('This is a debug message')\n",
    "logger.info('This is an info message')\n",
    "logger.warning('This is a warning message')\n",
    "logger.error('This is an error message')\n",
    "logger.critical('This is a critical message')"
   ]
  },
  {
   "cell_type": "code",
   "execution_count": 26,
   "id": "305793ae",
   "metadata": {},
   "outputs": [],
   "source": [
    "#9.What is the difference between the logging and print statements in Python? When \n",
    "#should you use logging over print statements in a real-world application?"
   ]
  },
  {
   "cell_type": "raw",
   "id": "631ac4db",
   "metadata": {},
   "source": [
    "Logging:\n",
    "\n",
    "Logging is used for recording important information, errors, and debugging messages in your application.\n",
    "It is primarily intended for developers and system administrators to monitor and troubleshoot the application.\n",
    "Log messages can be categorized by severity levels (e.g., debug, info, warning, error, critical) to provide \n",
    "a clear indication of the message's importance.\n",
    "\n",
    "\n",
    "Logging is the recommended approach for real-world applications, particularly in server-side, \n",
    "web applications, and long-running services.\n",
    "It allows us to capture and store historical information about your application's behavior."
   ]
  },
  {
   "cell_type": "raw",
   "id": "3adb5556",
   "metadata": {},
   "source": [
    "PRINT : \n",
    "    Print statements are primarily used for debugging and quick inspection of variables and values during development.\n",
    "They are less formal and typically used for temporary output during the development phase."
   ]
  },
  {
   "cell_type": "raw",
   "id": "7f4702cb",
   "metadata": {},
   "source": [
    "#10.Write a Python program that logs a message to a file named \"app.log\" with the\n",
    "following requirements:\n",
    "● The log message should be \"Hello, World!\"\n",
    "● The log level should be set to \"INFO.\"\n",
    "● The log file should append new log entries without overwriting previous ones."
   ]
  },
  {
   "cell_type": "code",
   "execution_count": 31,
   "id": "10742112",
   "metadata": {},
   "outputs": [],
   "source": [
    "import logging\n",
    "\n",
    "\n",
    "logging.basicConfig(\n",
    "    level=logging.INFO ,\n",
    "    format='%(asctime)s - %(levelname)s - %(message)s',\n",
    "    filename='app.log',\n",
    "    filemode='a'  \n",
    ")\n",
    "\n",
    "\n",
    "logging.info('Hello, World!')"
   ]
  },
  {
   "cell_type": "raw",
   "id": "cf7ccb3e",
   "metadata": {},
   "source": [
    "#11.Create a Python program that logs an error message to the console and a file named\n",
    "\"errors.log\" if an exception occurs during the program's execution. The error\n",
    "message should include the exception type and a timestamp."
   ]
  },
  {
   "cell_type": "code",
   "execution_count": 33,
   "id": "af819784",
   "metadata": {},
   "outputs": [
    {
     "name": "stdout",
     "output_type": "stream",
     "text": [
      "2023-09-05 19:04:06,427 - ERROR - Exception: division by zero\n",
      "Traceback (most recent call last):\n",
      "  File \"<ipython-input-33-c163ff392ea0>\", line 15, in <module>\n",
      "    result = 1 / 0\n",
      "ZeroDivisionError: division by zero\n",
      "\n",
      "2023-09-05 19:04:06,427 - ERROR - Exception: division by zero\n",
      "Traceback (most recent call last):\n",
      "  File \"<ipython-input-33-c163ff392ea0>\", line 15, in <module>\n",
      "    result = 1 / 0\n",
      "ZeroDivisionError: division by zero\n",
      "\n",
      "2023-09-05 19:04:06,427 - ERROR - Exception: division by zero\n",
      "Traceback (most recent call last):\n",
      "  File \"<ipython-input-33-c163ff392ea0>\", line 15, in <module>\n",
      "    result = 1 / 0\n",
      "ZeroDivisionError: division by zero\n",
      "\n"
     ]
    }
   ],
   "source": [
    "import logging\n",
    "import traceback\n",
    "import sys\n",
    "\n",
    "\n",
    "logging.basicConfig(\n",
    "    level=logging.ERROR,  \n",
    "    format='%(asctime)s - %(levelname)s - %(message)s',\n",
    "    filename='errors.log',  \n",
    "    filemode='a' \n",
    ")\n",
    "\n",
    "try:\n",
    "  \n",
    "    result = 1 / 0\n",
    "\n",
    "except Exception as e:\n",
    "    \n",
    "    logging.error(f'Exception: {e}\\n{traceback.format_exc()}')\n",
    "\n",
    "    \n",
    "    console_handler = logging.StreamHandler(sys.stdout)\n",
    "    console_handler.setLevel(logging.ERROR)\n",
    "    console_handler.setFormatter(logging.Formatter('%(asctime)s - %(levelname)s - %(message)s'))\n",
    "    root_logger = logging.getLogger()\n",
    "    root_logger.addHandler(console_handler)\n",
    "\n",
    "    root_logger.error(f'Exception: {e}\\n{traceback.format_exc()}')\n",
    "\n"
   ]
  },
  {
   "cell_type": "code",
   "execution_count": null,
   "id": "fe592ee1",
   "metadata": {},
   "outputs": [],
   "source": []
  },
  {
   "cell_type": "code",
   "execution_count": null,
   "id": "10579df0",
   "metadata": {},
   "outputs": [],
   "source": []
  },
  {
   "cell_type": "code",
   "execution_count": null,
   "id": "ca60bebe",
   "metadata": {},
   "outputs": [],
   "source": []
  }
 ],
 "metadata": {
  "kernelspec": {
   "display_name": "Python 3",
   "language": "python",
   "name": "python3"
  },
  "language_info": {
   "codemirror_mode": {
    "name": "ipython",
    "version": 3
   },
   "file_extension": ".py",
   "mimetype": "text/x-python",
   "name": "python",
   "nbconvert_exporter": "python",
   "pygments_lexer": "ipython3",
   "version": "3.8.8"
  }
 },
 "nbformat": 4,
 "nbformat_minor": 5
}
