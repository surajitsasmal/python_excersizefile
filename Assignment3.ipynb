{
 "cells": [
  {
   "cell_type": "markdown",
   "id": "bafbc074",
   "metadata": {},
   "source": [
    "# Assignment3"
   ]
  },
  {
   "cell_type": "code",
   "execution_count": 1,
   "id": "eb081fc3",
   "metadata": {},
   "outputs": [],
   "source": [
    "#1.Why are functions advantageous to have in your programs?\n"
   ]
  },
  {
   "cell_type": "markdown",
   "id": "2bf10245",
   "metadata": {},
   "source": [
    "Function helps code organizaztion,reusability,maintainability making them\n",
    "\n",
    "fundemental building blocks of software development.they enable us to write cleaner,\n",
    "\n",
    "more efficient and more managable code which is crucial for both small and large scale software project"
   ]
  },
  {
   "cell_type": "code",
   "execution_count": 3,
   "id": "a4fa174b",
   "metadata": {},
   "outputs": [
    {
     "name": "stdout",
     "output_type": "stream",
     "text": [
      "11\n",
      "15\n"
     ]
    }
   ],
   "source": [
    "def addition(x,y):\n",
    "    c=x+y\n",
    "    return c\n",
    "print(addition(5,6))\n",
    "print(addition(8,7))"
   ]
  },
  {
   "cell_type": "code",
   "execution_count": 4,
   "id": "e22dd8b8",
   "metadata": {},
   "outputs": [],
   "source": [
    "#2.When does the code in a function run: when it's specified or when it's called?\n"
   ]
  },
  {
   "cell_type": "markdown",
   "id": "7557bad7",
   "metadata": {},
   "source": [
    "Code in a function runs when it is called."
   ]
  },
  {
   "cell_type": "code",
   "execution_count": 5,
   "id": "a211a775",
   "metadata": {},
   "outputs": [],
   "source": [
    "#3.What statement creates a function?"
   ]
  },
  {
   "cell_type": "markdown",
   "id": "9d18b77f",
   "metadata": {},
   "source": [
    "Def function_name():"
   ]
  },
  {
   "cell_type": "code",
   "execution_count": 6,
   "id": "fee8f972",
   "metadata": {},
   "outputs": [],
   "source": [
    "#4.What is the difference between a function and a function call?"
   ]
  },
  {
   "cell_type": "markdown",
   "id": "b412795a",
   "metadata": {},
   "source": [
    "Function:\n",
    "    \n",
    "a.\tA function is a block of code that performs a specific task or set of tasks.\n",
    "\n",
    "b.\tIt is defined with a name and may take input parameters (arguments).\n",
    "\n",
    "c.\tFunctions can be thought of as reusable units of code that encapsulate a particular functionality.\n",
    "\n",
    "d.\tFunctions are typically defined once in your code and can be called  multiple times from different parts of your program.\n",
    "\n",
    "\n",
    "Function Call:\n",
    "    \n",
    "e.\tA function call is the action of invoking (or running) a function to execute its code.\n",
    "\n",
    "f.\tWhen we call a function, you provide any required input values (arguments) based on the function's parameter list.\n",
    "\n",
    "g.\tThe function call triggers the execution of the code within the function's body, using the provided arguments.\n",
    "\n",
    "h.\tAfter the function completes its task, it may return a value to the calling code, if specified.\n"
   ]
  },
  {
   "cell_type": "code",
   "execution_count": 7,
   "id": "09f61eb1",
   "metadata": {},
   "outputs": [],
   "source": [
    "#5.How many global scopes are there in a Python program? How many local scopes?\n",
    "\n"
   ]
  },
  {
   "cell_type": "markdown",
   "id": "cc620351",
   "metadata": {},
   "source": [
    "In a Python program, there is typically one global scope and multiple local scopes"
   ]
  },
  {
   "cell_type": "code",
   "execution_count": 8,
   "id": "2912d9e4",
   "metadata": {},
   "outputs": [],
   "source": [
    "#6.What happens to variables in a local scope when the function call returns?\n",
    "\n"
   ]
  },
  {
   "cell_type": "markdown",
   "id": "b9222709",
   "metadata": {},
   "source": [
    "When a function call returns in Python, the variables that were defined within the\n",
    "\n",
    "local scope of that function typically go out of scope and are no longer accessible. This means that the local variables\n",
    "\n",
    "cease to exist once the function execution is completed ."
   ]
  },
  {
   "cell_type": "code",
   "execution_count": 13,
   "id": "b974941b",
   "metadata": {},
   "outputs": [],
   "source": [
    "#7.What is the concept of a return value? Is it possible to have a return value in an expression?\n"
   ]
  },
  {
   "cell_type": "markdown",
   "id": "95541f6e",
   "metadata": {},
   "source": [
    "functions can return a value to the caller, which allows us to use the result of the function's."
   ]
  },
  {
   "cell_type": "code",
   "execution_count": 12,
   "id": "0802c6e1",
   "metadata": {},
   "outputs": [
    {
     "name": "stdout",
     "output_type": "stream",
     "text": [
      "9\n",
      "11\n"
     ]
    }
   ],
   "source": [
    "def add_num(x,y):\n",
    "    \n",
    "    result=x+y\n",
    "    return result\n",
    "total=add_num(4,5)\n",
    "print(total)\n",
    "#we can also use functions that return values within expressions.\n",
    "#This means we can directly use the returned value in another operation or expression.\n",
    "result=add_num(5,6)\n",
    "print(result)"
   ]
  },
  {
   "cell_type": "code",
   "execution_count": 14,
   "id": "3300c874",
   "metadata": {},
   "outputs": [],
   "source": [
    "#8.If a function does not have a return statement, what is the return value of a call to that function?\n"
   ]
  },
  {
   "cell_type": "markdown",
   "id": "5d37476e",
   "metadata": {},
   "source": [
    "If a function in Python does not have a return statement, \n",
    "\n",
    "or if it has a return statement without an expression to specify a value,\n",
    "\n",
    "the function will implicitly return a special value called None. None is a built-in constant in Python that represents\n",
    "\n",
    "the absence of a value or a null value. "
   ]
  },
  {
   "cell_type": "code",
   "execution_count": null,
   "id": "499b050f",
   "metadata": {},
   "outputs": [],
   "source": [
    "#9.How do you make a function variable refer to the global variable?"
   ]
  },
  {
   "cell_type": "markdown",
   "id": "b8193301",
   "metadata": {},
   "source": [
    "In Python, if we want to make a function variable refer to a global variable, we can use the global keyword."
   ]
  },
  {
   "cell_type": "code",
   "execution_count": null,
   "id": "a1e57d96",
   "metadata": {},
   "outputs": [],
   "source": []
  },
  {
   "cell_type": "code",
   "execution_count": 15,
   "id": "1e8efd4f",
   "metadata": {},
   "outputs": [
    {
     "name": "stdout",
     "output_type": "stream",
     "text": [
      "20\n"
     ]
    }
   ],
   "source": [
    "global_variable = 10\n",
    "\n",
    "def modify_global():\n",
    "    global global_variable\n",
    "    global_variable = 20\n",
    "\n",
    "modify_global()\n",
    "\n",
    "print(global_variable)"
   ]
  },
  {
   "cell_type": "code",
   "execution_count": null,
   "id": "cb6e3393",
   "metadata": {},
   "outputs": [],
   "source": [
    "#10.What is the data type of None?\n",
    "\n"
   ]
  },
  {
   "cell_type": "markdown",
   "id": "a9c0a314",
   "metadata": {},
   "source": [
    "Datatype of None is ‘Nonetype’."
   ]
  },
  {
   "cell_type": "code",
   "execution_count": null,
   "id": "c77cec79",
   "metadata": {},
   "outputs": [],
   "source": [
    "#11.What does the sentence import areallyourpetsnamederic do?\n"
   ]
  },
  {
   "cell_type": "markdown",
   "id": "a941fba5",
   "metadata": {},
   "source": [
    "ImportError: No module named 'areallyourpetsnamederic'"
   ]
  },
  {
   "cell_type": "code",
   "execution_count": 16,
   "id": "5026aa5c",
   "metadata": {},
   "outputs": [],
   "source": [
    "#12.If you had a bacon() feature in a spam module, what would you call it after importing spam?\n",
    "\n"
   ]
  },
  {
   "cell_type": "markdown",
   "id": "5addbd8e",
   "metadata": {},
   "source": [
    "Import spam\n",
    "\n",
    "Spam.bacon()"
   ]
  },
  {
   "cell_type": "code",
   "execution_count": null,
   "id": "0d44e134",
   "metadata": {},
   "outputs": [],
   "source": [
    "#14. What is the purpose of the try clause? What is the purpose of the except clause?"
   ]
  },
  {
   "cell_type": "markdown",
   "id": "54a45898",
   "metadata": {},
   "source": [
    "\n",
    "Python, the try and except clauses are used together to handle exceptions,\n",
    "\n",
    "which are runtime errors or exceptional situations that can occur during the execution of a program.\n",
    "\n",
    "Try clause is used to enclosed a block of code where we anticipate possibility of exception occuring\n",
    "\n",
    "•It allows us to test a block of code for exceptions without actually halting the program's execution when\n",
    "an exception is raised.\n",
    "•\tIf an exception occurs within the try block, the execution of the try block is immediately terminated, \n",
    "and the program jumps to the corresponding except block.\n",
    "\n",
    "2.except Clause:\n",
    "    \n",
    "•The except clause is used to define how to handle specific exceptions that may occur within the associated try block.\n",
    "\n",
    "•You can have multiple except clauses to handle different types of exceptions.\n",
    "\n",
    "•When an exception occurs in the try block, Python checks each except clause to see if it\n",
    "matches the type of exception that was raised. If a match is found, the code within that except block is executed.\n",
    "\n",
    "•If there is no matching except clause, the exception is propagated up the call stack, and\n",
    "if not caught there, it may result in the program terminating with an error message.\n"
   ]
  },
  {
   "cell_type": "code",
   "execution_count": null,
   "id": "c2e80c01",
   "metadata": {},
   "outputs": [],
   "source": []
  },
  {
   "cell_type": "code",
   "execution_count": null,
   "id": "e58f86e1",
   "metadata": {},
   "outputs": [],
   "source": []
  },
  {
   "cell_type": "code",
   "execution_count": null,
   "id": "2c74dd27",
   "metadata": {},
   "outputs": [],
   "source": []
  },
  {
   "cell_type": "code",
   "execution_count": null,
   "id": "eefd6c16",
   "metadata": {},
   "outputs": [],
   "source": []
  }
 ],
 "metadata": {
  "kernelspec": {
   "display_name": "Python 3",
   "language": "python",
   "name": "python3"
  },
  "language_info": {
   "codemirror_mode": {
    "name": "ipython",
    "version": 3
   },
   "file_extension": ".py",
   "mimetype": "text/x-python",
   "name": "python",
   "nbconvert_exporter": "python",
   "pygments_lexer": "ipython3",
   "version": "3.8.8"
  }
 },
 "nbformat": 4,
 "nbformat_minor": 5
}
