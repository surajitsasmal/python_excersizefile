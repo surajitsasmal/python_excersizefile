{
 "cells": [
  {
   "cell_type": "raw",
   "id": "b03645fe",
   "metadata": {},
   "source": [
    "1.In Python, what is the difference between a built-in function and a user-defined function? Provide an\n",
    "example of each."
   ]
  },
  {
   "cell_type": "raw",
   "id": "a34fd0e1",
   "metadata": {},
   "source": [
    "built-in functions are provided by Python's standard library and are available for general use,\n",
    "while user-defined functions are created by programmers to encapsulate \n",
    "custom functionality and improve code maintainability."
   ]
  },
  {
   "cell_type": "code",
   "execution_count": 3,
   "id": "846e51bc",
   "metadata": {},
   "outputs": [
    {
     "name": "stdout",
     "output_type": "stream",
     "text": [
      "Hello krish\n"
     ]
    },
    {
     "data": {
      "text/plain": [
       "5"
      ]
     },
     "execution_count": 3,
     "metadata": {},
     "output_type": "execute_result"
    }
   ],
   "source": [
    "#Builtin functions are print(),range(),len(),max(),min()\n",
    "print(\"Hello krish\")\n",
    "len(\"krish\")"
   ]
  },
  {
   "cell_type": "code",
   "execution_count": 4,
   "id": "183d9828",
   "metadata": {},
   "outputs": [
    {
     "name": "stdout",
     "output_type": "stream",
     "text": [
      "4\n"
     ]
    }
   ],
   "source": [
    "def square(x):\n",
    "    return x**2\n",
    "print(square(2))"
   ]
  },
  {
   "cell_type": "raw",
   "id": "a0bf15b1",
   "metadata": {},
   "source": [
    "2.How can you pass arguments to a function in Python? Explain the difference between positional\n",
    "arguments and keyword arguments."
   ]
  },
  {
   "cell_type": "code",
   "execution_count": 1,
   "id": "ae46bde2",
   "metadata": {},
   "outputs": [
    {
     "name": "stdout",
     "output_type": "stream",
     "text": [
      "8\n"
     ]
    }
   ],
   "source": [
    "#positional argument\n",
    "def addition(a,b):\n",
    "    c=a+b\n",
    "    return c\n",
    "result=addition(2,6)\n",
    "print(result)"
   ]
  },
  {
   "cell_type": "code",
   "execution_count": 2,
   "id": "385634d1",
   "metadata": {},
   "outputs": [
    {
     "name": "stdout",
     "output_type": "stream",
     "text": [
      "5.0\n"
     ]
    }
   ],
   "source": [
    "#keyword argument\n",
    "def divide(dividend, divisor):\n",
    "    return dividend / divisor\n",
    "\n",
    "result = divide(dividend=10, divisor=2)\n",
    "print(result)"
   ]
  },
  {
   "cell_type": "raw",
   "id": "6819fa40",
   "metadata": {},
   "source": [
    " the difference between positional and keyword arguments in Python lies in how we pass values \n",
    "to a function. Positional arguments rely on the order in which parameters are defined, while keyword\n",
    "arguments allow you to specify values by parameter name. Keyword arguments are often preferred for clarity and when working with\n",
    "functions that have many parameters, as they make the code more self-explanatory."
   ]
  },
  {
   "cell_type": "code",
   "execution_count": null,
   "id": "0fded4fc",
   "metadata": {},
   "outputs": [],
   "source": []
  },
  {
   "cell_type": "raw",
   "id": "7acc6e39",
   "metadata": {},
   "source": [
    "3.What is the purpose of the return statement in a function? Can a function have multiple return\n",
    "statements? Explain with an example."
   ]
  },
  {
   "cell_type": "code",
   "execution_count": 13,
   "id": "1aa35b07",
   "metadata": {},
   "outputs": [],
   "source": [
    "#The return statement in a function serves the purpose of specifying the value(s)\n",
    "#that the function should produce as its result when it is called."
   ]
  },
  {
   "cell_type": "code",
   "execution_count": 14,
   "id": "6221b8ee",
   "metadata": {},
   "outputs": [
    {
     "name": "stdout",
     "output_type": "stream",
     "text": [
      "Maximum value: 8\n",
      "Minimum value: 2\n"
     ]
    }
   ],
   "source": [
    "def find_max_min(numbers):\n",
    "    if not numbers:\n",
    "        return None  \n",
    "\n",
    "    max_value = max(numbers)\n",
    "    min_value = min(numbers)\n",
    "\n",
    "    if max_value == min_value:\n",
    "        return max_value,  \n",
    "\n",
    "    return max_value, min_value \n",
    "\n",
    "\n",
    "numbers_list = [2, 8, 3, 6, 2, 7, 2]\n",
    "result = find_max_min(numbers_list)\n",
    "\n",
    "if result is None:\n",
    "    print(\"List is empty\")\n",
    "else:\n",
    "    max_val, min_val = result\n",
    "    print(f\"Maximum value: {max_val}\")\n",
    "    print(f\"Minimum value: {min_val}\")"
   ]
  },
  {
   "cell_type": "raw",
   "id": "b301273c",
   "metadata": {},
   "source": [
    "4.What are lambda functions in Python? How are they different from regular functions? Provide an\n",
    "example where a lambda function can be useful."
   ]
  },
  {
   "cell_type": "code",
   "execution_count": 11,
   "id": "ce533770",
   "metadata": {},
   "outputs": [
    {
     "name": "stdout",
     "output_type": "stream",
     "text": [
      "25\n",
      "25\n"
     ]
    }
   ],
   "source": [
    "#Lambda functions are anonymous, meaning they don't have a name like regular functions. \n",
    "#Instead, they are defined and used at the same time.\n",
    "def square(x):\n",
    "    return x ** 2\n",
    "square_lambda = lambda x: x ** 2\n",
    "\n",
    "print(square(5))         \n",
    "print(square_lambda(5))"
   ]
  },
  {
   "cell_type": "raw",
   "id": "7fa6ffdf",
   "metadata": {},
   "source": [
    "5.How does the concept of \"scope\" apply to functions in Python? Explain the difference between local\n",
    "scope and global scope."
   ]
  },
  {
   "cell_type": "code",
   "execution_count": 9,
   "id": "448ba15f",
   "metadata": {},
   "outputs": [
    {
     "data": {
      "text/plain": [
       "'local scope applies to variables defined within functions, making them accessible only within those functions\\n. Global scope applies to variables defined at\\nthe module level, allowing them to be accessed from anywhere in the code.'"
      ]
     },
     "execution_count": 9,
     "metadata": {},
     "output_type": "execute_result"
    }
   ],
   "source": [
    "'''local scope applies to variables defined within functions, making them accessible only within those functions\n",
    ". Global scope applies to variables defined at\n",
    "the module level, allowing them to be accessed from anywhere in the code.'''"
   ]
  },
  {
   "cell_type": "code",
   "execution_count": 12,
   "id": "990135db",
   "metadata": {},
   "outputs": [
    {
     "name": "stdout",
     "output_type": "stream",
     "text": [
      "10\n",
      "10\n",
      "20\n"
     ]
    }
   ],
   "source": [
    "x = 10  # x is a variable with global scope\n",
    "\n",
    "def my_function():\n",
    "    print(x)  # Accessing the global variable\n",
    "\n",
    "my_function()\n",
    "print(x)  \n",
    "\n",
    "def modify_global_variable():\n",
    "    global x  # Declare x as a global variable\n",
    "    x = 20\n",
    "\n",
    "modify_global_variable()\n",
    "print(x)"
   ]
  },
  {
   "cell_type": "raw",
   "id": "36680625",
   "metadata": {},
   "source": [
    "6. How can you use the \"return\" statement in a Python function to return multiple values?"
   ]
  },
  {
   "cell_type": "code",
   "execution_count": null,
   "id": "06a0977e",
   "metadata": {},
   "outputs": [],
   "source": [
    "def return_multiple_values():\n",
    "    value1 = 10\n",
    "    value2 = \"Hello\"\n",
    "    value3 = [1, 2, 3]\n",
    "    return value1, value2, value3\n",
    "\n",
    "result = return_multiple_values()\n",
    "print(result)"
   ]
  },
  {
   "cell_type": "raw",
   "id": "3ff69f27",
   "metadata": {},
   "source": [
    "7.What is the difference between the \"pass by value\" and \"pass by reference\" concepts when it\n",
    "comes to function arguments in Python?"
   ]
  },
  {
   "cell_type": "raw",
   "id": "d4b01eb6",
   "metadata": {},
   "source": [
    "Python uses \"pass by object reference,\" and the behavior depends on whether the object \n",
    "is mutable or immutable. Immutable objects behave like \"pass by value,\" while mutable objects \n",
    "behave like \"pass by reference\" in terms of how\n",
    "changes affect the original object outside the function."
   ]
  },
  {
   "cell_type": "code",
   "execution_count": 7,
   "id": "072d8ccd",
   "metadata": {},
   "outputs": [
    {
     "name": "stdout",
     "output_type": "stream",
     "text": [
      "Hello\n"
     ]
    }
   ],
   "source": [
    "#pass by value\n",
    "def modify_string(s):\n",
    "    s += \" World\"\n",
    "\n",
    "my_string = \"Hello\"\n",
    "modify_string(my_string)\n",
    "print(my_string)"
   ]
  },
  {
   "cell_type": "code",
   "execution_count": 6,
   "id": "d46462bc",
   "metadata": {},
   "outputs": [
    {
     "name": "stdout",
     "output_type": "stream",
     "text": [
      "[1, 2, 3]\n"
     ]
    }
   ],
   "source": [
    "#pass by reference\n",
    "def modify_list(lst):\n",
    "    lst.append(3)\n",
    "\n",
    "my_list = [1, 2]\n",
    "modify_list(my_list)\n",
    "print(my_list)"
   ]
  },
  {
   "cell_type": "raw",
   "id": "5357d6b5",
   "metadata": {},
   "source": [
    "8.Create a function that can intake integer or decimal value and do following operations:\n",
    "a. Logarithmic function (log x)\n",
    "b. Exponential function (exp(x))\n",
    "c. Power function with base 2 (2x)\n",
    "d. Square root"
   ]
  },
  {
   "cell_type": "code",
   "execution_count": 6,
   "id": "ff8f299d",
   "metadata": {},
   "outputs": [
    {
     "name": "stdout",
     "output_type": "stream",
     "text": [
      "1.3862943611198906\n",
      "54.598150033144236\n",
      "8\n",
      "2.0\n"
     ]
    }
   ],
   "source": [
    "import math\n",
    "def calculate(x):\n",
    "    print(math.log(x))\n",
    "    print(math.exp(x))\n",
    "    print(2*x)\n",
    "    print(x**0.5)\n",
    "calculate(4)"
   ]
  },
  {
   "cell_type": "raw",
   "id": "b316d02f",
   "metadata": {},
   "source": [
    "9.Create a function that takes a full name as an argument and returns first name and last name."
   ]
  },
  {
   "cell_type": "code",
   "execution_count": 8,
   "id": "a7694cbf",
   "metadata": {},
   "outputs": [
    {
     "name": "stdout",
     "output_type": "stream",
     "text": [
      "First Name: surajit\n",
      "Last Name: sasmal\n"
     ]
    }
   ],
   "source": [
    "def split_full_name(full_name):\n",
    "    \n",
    "    name_parts = full_name.split()\n",
    "    if len(name_parts) >= 2:\n",
    "        first_name = name_parts[0]\n",
    "        last_name = \" \".join(name_parts[1:])\n",
    "        return first_name, last_name\n",
    "    else:\n",
    "        return full_name, \"\"\n",
    "\n",
    "\n",
    "full_name = \"surajit sasmal\"\n",
    "first_name, last_name = split_full_name(full_name)\n",
    "print(\"First Name:\", first_name)\n",
    "print(\"Last Name:\", last_name)\n",
    "\n",
    "    "
   ]
  },
  {
   "cell_type": "code",
   "execution_count": null,
   "id": "8a8a661e",
   "metadata": {},
   "outputs": [],
   "source": []
  },
  {
   "cell_type": "code",
   "execution_count": null,
   "id": "b3bc8bce",
   "metadata": {},
   "outputs": [],
   "source": []
  },
  {
   "cell_type": "code",
   "execution_count": null,
   "id": "e4fd8ca0",
   "metadata": {},
   "outputs": [],
   "source": []
  },
  {
   "cell_type": "code",
   "execution_count": null,
   "id": "5e7b64d5",
   "metadata": {},
   "outputs": [],
   "source": []
  }
 ],
 "metadata": {
  "kernelspec": {
   "display_name": "Python 3",
   "language": "python",
   "name": "python3"
  },
  "language_info": {
   "codemirror_mode": {
    "name": "ipython",
    "version": 3
   },
   "file_extension": ".py",
   "mimetype": "text/x-python",
   "name": "python",
   "nbconvert_exporter": "python",
   "pygments_lexer": "ipython3",
   "version": "3.8.8"
  }
 },
 "nbformat": 4,
 "nbformat_minor": 5
}
