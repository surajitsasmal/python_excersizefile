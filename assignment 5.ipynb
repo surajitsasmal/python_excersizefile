{
 "cells": [
  {
   "cell_type": "markdown",
   "id": "12899eda",
   "metadata": {},
   "source": [
    "# Assignment5"
   ]
  },
  {
   "cell_type": "code",
   "execution_count": 1,
   "id": "f5b795b0",
   "metadata": {},
   "outputs": [],
   "source": [
    "#1.What does an empty dictionary's code look like?"
   ]
  },
  {
   "cell_type": "markdown",
   "id": "03b9a364",
   "metadata": {},
   "source": [
    "Dict={}\n",
    "\n",
    "Type(Dict)"
   ]
  },
  {
   "cell_type": "code",
   "execution_count": null,
   "id": "78565c4c",
   "metadata": {},
   "outputs": [],
   "source": [
    "#2.What is the value of a dictionary value with the key 'foo' and the value 42?\n",
    " "
   ]
  },
  {
   "cell_type": "code",
   "execution_count": 3,
   "id": "7ef0a31f",
   "metadata": {},
   "outputs": [
    {
     "data": {
      "text/plain": [
       "42"
      ]
     },
     "execution_count": 3,
     "metadata": {},
     "output_type": "execute_result"
    }
   ],
   "source": [
    "Dict={'foo':42}\n",
    "Dict['foo']"
   ]
  },
  {
   "cell_type": "code",
   "execution_count": 4,
   "id": "a1567df9",
   "metadata": {},
   "outputs": [],
   "source": [
    "#3.What is the most significant distinction between a dictionary and a list?"
   ]
  },
  {
   "cell_type": "markdown",
   "id": "3e6767dd",
   "metadata": {},
   "source": [
    "   \n",
    "a.List: A list is an ordered collection of elements, and each element is accessed by an index \n",
    "    (an integer) starting from 0. Lists store data in a linear fashion, with elements following one another\n",
    "    in a specific order.\n",
    "    \n",
    "b.Dictionary: A dictionary is an unordered collection of key-value pairs, where each key is unique.\n",
    "    Instead of using numeric indices, you access values in a dictionary by using their associated keys. \n",
    "    Dictionaries store data in a key-value mapping format.\n",
    "    \n",
    "Accessing Data:\n",
    "    \n",
    "c.List: In a list, we access elements by their position (index) within the list. \n",
    "    For example, my_list[0] would access the first element of the list.\n",
    "    \n",
    "d.Dictionary: In a dictionary, we access values by specifying their corresponding keys. For example, \n",
    "    my_dict['key'] would access the value associated with the key 'key'.\n"
   ]
  },
  {
   "cell_type": "code",
   "execution_count": null,
   "id": "775d967a",
   "metadata": {},
   "outputs": [],
   "source": [
    "#4.What happens if you try to access spam['foo'] if spam is {'bar': 100}?\n"
   ]
  },
  {
   "cell_type": "markdown",
   "id": "1ea7bc2d",
   "metadata": {},
   "source": [
    "KeyError: 'foo'"
   ]
  },
  {
   "cell_type": "code",
   "execution_count": null,
   "id": "7d419913",
   "metadata": {},
   "outputs": [],
   "source": [
    "#5.If a dictionary is stored in spam, what is the difference between the expressions 'cat' in spam and 'cat' in spam.keys()?\n"
   ]
  },
  {
   "cell_type": "markdown",
   "id": "4937ac67",
   "metadata": {},
   "source": [
    "'cat' in spam.keys() : it means ‘cat ‘ is unique dictionary key.\n",
    "    \n",
    "expressions 'cat' in spam: cat in spam\n",
    "    \n",
    "•This expression checks whether the key ‘cat’ exists in the dictionary spam.\n",
    "\n",
    "•If ‘cat’ is a key in spam, it will returnTrue. If ‘cat’ is not a key in spam, it will return False"
   ]
  },
  {
   "cell_type": "code",
   "execution_count": 5,
   "id": "7b1f229f",
   "metadata": {},
   "outputs": [],
   "source": [
    "#6.If a dictionary is stored in spam, what is the difference between the expressions 'cat' in spam and 'cat' in spam.values()?"
   ]
  },
  {
   "cell_type": "markdown",
   "id": "9fd38087",
   "metadata": {},
   "source": [
    "'cat' in spam.values() : checks weather value cat present in any value in spam dictionary.\n",
    "    \n",
    "If cat is present in any of the key value pair in spam dictionary it will return true otherwise it will return false"
   ]
  },
  {
   "cell_type": "code",
   "execution_count": 6,
   "id": "dc849b67",
   "metadata": {},
   "outputs": [],
   "source": [
    "#7. What is a shortcut for the following code?\n",
    "#if 'color' not in spam:\n",
    "#spam['color'] = 'black'\n",
    "\n"
   ]
  },
  {
   "cell_type": "markdown",
   "id": "095e373f",
   "metadata": {},
   "source": [
    "spam.setdefault(‘color’,’black’)"
   ]
  },
  {
   "cell_type": "code",
   "execution_count": null,
   "id": "15816b8b",
   "metadata": {},
   "outputs": [],
   "source": [
    "#7.\tHow do you \"pretty print\" dictionary values using which module and function?\n",
    "\n"
   ]
  },
  {
   "cell_type": "markdown",
   "id": "e36879bf",
   "metadata": {},
   "source": [
    "The pprint.pprint() function will format the dictionary with line breaks and indentation, making it easier to\n",
    "\n",
    "read, especially for complex nested dictionaries."
   ]
  },
  {
   "cell_type": "code",
   "execution_count": 7,
   "id": "a6c05c3c",
   "metadata": {},
   "outputs": [],
   "source": [
    "import pprint"
   ]
  },
  {
   "cell_type": "code",
   "execution_count": null,
   "id": "01a51db7",
   "metadata": {},
   "outputs": [],
   "source": []
  }
 ],
 "metadata": {
  "kernelspec": {
   "display_name": "Python 3",
   "language": "python",
   "name": "python3"
  },
  "language_info": {
   "codemirror_mode": {
    "name": "ipython",
    "version": 3
   },
   "file_extension": ".py",
   "mimetype": "text/x-python",
   "name": "python",
   "nbconvert_exporter": "python",
   "pygments_lexer": "ipython3",
   "version": "3.8.8"
  }
 },
 "nbformat": 4,
 "nbformat_minor": 5
}
